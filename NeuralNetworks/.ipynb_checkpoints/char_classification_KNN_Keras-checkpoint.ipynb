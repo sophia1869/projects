{
 "cells": [
  {
   "cell_type": "code",
   "execution_count": 1,
   "metadata": {},
   "outputs": [],
   "source": [
    "import pandas as pd\n",
    "import numpy as np"
   ]
  },
  {
   "cell_type": "code",
   "execution_count": 2,
   "metadata": {},
   "outputs": [
    {
     "name": "stderr",
     "output_type": "stream",
     "text": [
      "/usr/local/lib/python3.7/site-packages/ipykernel_launcher.py:3: DeprecationWarning: \n",
      ".ix is deprecated. Please use\n",
      ".loc for label based indexing or\n",
      ".iloc for positional indexing\n",
      "\n",
      "See the documentation here:\n",
      "http://pandas.pydata.org/pandas-docs/stable/indexing.html#ix-indexer-is-deprecated\n",
      "  This is separate from the ipykernel package so we can avoid doing imports until\n"
     ]
    },
    {
     "data": {
      "text/html": [
       "<div>\n",
       "<style scoped>\n",
       "    .dataframe tbody tr th:only-of-type {\n",
       "        vertical-align: middle;\n",
       "    }\n",
       "\n",
       "    .dataframe tbody tr th {\n",
       "        vertical-align: top;\n",
       "    }\n",
       "\n",
       "    .dataframe thead th {\n",
       "        text-align: right;\n",
       "    }\n",
       "</style>\n",
       "<table border=\"1\" class=\"dataframe\">\n",
       "  <thead>\n",
       "    <tr style=\"text-align: right;\">\n",
       "      <th></th>\n",
       "      <th>m_label</th>\n",
       "      <th>r0c0</th>\n",
       "      <th>r0c1</th>\n",
       "      <th>r0c2</th>\n",
       "      <th>r0c3</th>\n",
       "      <th>r0c4</th>\n",
       "      <th>r0c5</th>\n",
       "      <th>r0c6</th>\n",
       "      <th>r0c7</th>\n",
       "      <th>r0c8</th>\n",
       "      <th>...</th>\n",
       "      <th>r19c10</th>\n",
       "      <th>r19c11</th>\n",
       "      <th>r19c12</th>\n",
       "      <th>r19c13</th>\n",
       "      <th>r19c14</th>\n",
       "      <th>r19c15</th>\n",
       "      <th>r19c16</th>\n",
       "      <th>r19c17</th>\n",
       "      <th>r19c18</th>\n",
       "      <th>r19c19</th>\n",
       "    </tr>\n",
       "  </thead>\n",
       "  <tbody>\n",
       "    <tr>\n",
       "      <th>0</th>\n",
       "      <td>64258</td>\n",
       "      <td>1</td>\n",
       "      <td>1</td>\n",
       "      <td>1</td>\n",
       "      <td>1</td>\n",
       "      <td>1</td>\n",
       "      <td>1</td>\n",
       "      <td>1</td>\n",
       "      <td>71</td>\n",
       "      <td>234</td>\n",
       "      <td>...</td>\n",
       "      <td>49</td>\n",
       "      <td>209</td>\n",
       "      <td>209</td>\n",
       "      <td>240</td>\n",
       "      <td>255</td>\n",
       "      <td>255</td>\n",
       "      <td>255</td>\n",
       "      <td>253</td>\n",
       "      <td>209</td>\n",
       "      <td>209</td>\n",
       "    </tr>\n",
       "    <tr>\n",
       "      <th>1</th>\n",
       "      <td>64257</td>\n",
       "      <td>1</td>\n",
       "      <td>1</td>\n",
       "      <td>1</td>\n",
       "      <td>1</td>\n",
       "      <td>1</td>\n",
       "      <td>1</td>\n",
       "      <td>1</td>\n",
       "      <td>71</td>\n",
       "      <td>234</td>\n",
       "      <td>...</td>\n",
       "      <td>49</td>\n",
       "      <td>209</td>\n",
       "      <td>209</td>\n",
       "      <td>240</td>\n",
       "      <td>255</td>\n",
       "      <td>255</td>\n",
       "      <td>255</td>\n",
       "      <td>253</td>\n",
       "      <td>209</td>\n",
       "      <td>209</td>\n",
       "    </tr>\n",
       "    <tr>\n",
       "      <th>2</th>\n",
       "      <td>61704</td>\n",
       "      <td>1</td>\n",
       "      <td>1</td>\n",
       "      <td>1</td>\n",
       "      <td>30</td>\n",
       "      <td>103</td>\n",
       "      <td>186</td>\n",
       "      <td>251</td>\n",
       "      <td>111</td>\n",
       "      <td>1</td>\n",
       "      <td>...</td>\n",
       "      <td>160</td>\n",
       "      <td>1</td>\n",
       "      <td>1</td>\n",
       "      <td>1</td>\n",
       "      <td>1</td>\n",
       "      <td>1</td>\n",
       "      <td>1</td>\n",
       "      <td>1</td>\n",
       "      <td>1</td>\n",
       "      <td>1</td>\n",
       "    </tr>\n",
       "    <tr>\n",
       "      <th>3</th>\n",
       "      <td>61703</td>\n",
       "      <td>1</td>\n",
       "      <td>1</td>\n",
       "      <td>1</td>\n",
       "      <td>77</td>\n",
       "      <td>128</td>\n",
       "      <td>255</td>\n",
       "      <td>255</td>\n",
       "      <td>255</td>\n",
       "      <td>255</td>\n",
       "      <td>...</td>\n",
       "      <td>58</td>\n",
       "      <td>224</td>\n",
       "      <td>255</td>\n",
       "      <td>255</td>\n",
       "      <td>160</td>\n",
       "      <td>96</td>\n",
       "      <td>1</td>\n",
       "      <td>1</td>\n",
       "      <td>1</td>\n",
       "      <td>1</td>\n",
       "    </tr>\n",
       "    <tr>\n",
       "      <th>4</th>\n",
       "      <td>61702</td>\n",
       "      <td>1</td>\n",
       "      <td>1</td>\n",
       "      <td>1</td>\n",
       "      <td>1</td>\n",
       "      <td>85</td>\n",
       "      <td>96</td>\n",
       "      <td>181</td>\n",
       "      <td>255</td>\n",
       "      <td>255</td>\n",
       "      <td>...</td>\n",
       "      <td>255</td>\n",
       "      <td>124</td>\n",
       "      <td>91</td>\n",
       "      <td>1</td>\n",
       "      <td>1</td>\n",
       "      <td>1</td>\n",
       "      <td>1</td>\n",
       "      <td>1</td>\n",
       "      <td>1</td>\n",
       "      <td>1</td>\n",
       "    </tr>\n",
       "  </tbody>\n",
       "</table>\n",
       "<p>5 rows × 401 columns</p>\n",
       "</div>"
      ],
      "text/plain": [
       "   m_label  r0c0  r0c1  r0c2  r0c3  r0c4  r0c5  r0c6  r0c7  r0c8  ...  r19c10  \\\n",
       "0    64258     1     1     1     1     1     1     1    71   234  ...      49   \n",
       "1    64257     1     1     1     1     1     1     1    71   234  ...      49   \n",
       "2    61704     1     1     1    30   103   186   251   111     1  ...     160   \n",
       "3    61703     1     1     1    77   128   255   255   255   255  ...      58   \n",
       "4    61702     1     1     1     1    85    96   181   255   255  ...     255   \n",
       "\n",
       "   r19c11  r19c12  r19c13  r19c14  r19c15  r19c16  r19c17  r19c18  r19c19  \n",
       "0     209     209     240     255     255     255     253     209     209  \n",
       "1     209     209     240     255     255     255     253     209     209  \n",
       "2       1       1       1       1       1       1       1       1       1  \n",
       "3     224     255     255     160      96       1       1       1       1  \n",
       "4     124      91       1       1       1       1       1       1       1  \n",
       "\n",
       "[5 rows x 401 columns]"
      ]
     },
     "execution_count": 2,
     "metadata": {},
     "output_type": "execute_result"
    }
   ],
   "source": [
    "# step 1\n",
    "data = pd.read_csv(\"BOOk.csv\")\n",
    "data1 = pd.concat([data.ix[:,2:3],data.ix[:,12:]], axis=1)\n",
    "data1.head()"
   ]
  },
  {
   "cell_type": "code",
   "execution_count": 3,
   "metadata": {},
   "outputs": [],
   "source": [
    "def xandy(data1):\n",
    "    data1array = np.array(data1)\n",
    "    res = []\n",
    "    resy = []\n",
    "    for s in range(data1.shape[0]):\n",
    "        resy.append(data1array[s][0])\n",
    "        temp = np.zeros((20, 20))\n",
    "        for r in range(20):\n",
    "            for c in range(20):\n",
    "                temp[r][c] = data1array[s][r+20*c+1]/255\n",
    "        res.append(temp)\n",
    "    return np.array(res) ,np.array(resy)   "
   ]
  },
  {
   "cell_type": "code",
   "execution_count": 31,
   "metadata": {},
   "outputs": [
    {
     "data": {
      "text/plain": [
       "(array([[[0.00392157, 0.00392157, 0.00392157, ..., 0.00392157,\n",
       "          0.00392157, 0.81960784],\n",
       "         [0.00392157, 0.00392157, 0.00392157, ..., 0.00392157,\n",
       "          0.00392157, 0.81960784],\n",
       "         [0.00392157, 0.00392157, 0.00392157, ..., 0.00392157,\n",
       "          0.09803922, 0.89803922],\n",
       "         ...,\n",
       "         [0.00392157, 0.00392157, 0.00392157, ..., 0.00392157,\n",
       "          0.21568627, 0.99215686],\n",
       "         [0.00392157, 0.00392157, 0.00392157, ..., 0.00392157,\n",
       "          0.00392157, 0.81960784],\n",
       "         [0.00392157, 0.00392157, 0.00392157, ..., 0.00392157,\n",
       "          0.00392157, 0.81960784]],\n",
       " \n",
       "        [[0.00392157, 0.00392157, 0.00392157, ..., 0.00392157,\n",
       "          0.00392157, 0.81960784],\n",
       "         [0.00392157, 0.00392157, 0.00392157, ..., 0.00392157,\n",
       "          0.00392157, 0.81960784],\n",
       "         [0.00392157, 0.00392157, 0.00392157, ..., 0.00392157,\n",
       "          0.09803922, 0.89803922],\n",
       "         ...,\n",
       "         [0.00392157, 0.00392157, 0.41960784, ..., 0.00392157,\n",
       "          0.39215686, 0.99215686],\n",
       "         [0.00392157, 0.00392157, 0.00392157, ..., 0.00392157,\n",
       "          0.00392157, 0.81960784],\n",
       "         [0.00392157, 0.00392157, 0.00392157, ..., 0.00392157,\n",
       "          0.00392157, 0.81960784]],\n",
       " \n",
       "        [[0.00392157, 0.00392157, 0.00392157, ..., 0.00392157,\n",
       "          0.00392157, 0.00392157],\n",
       "         [0.00392157, 0.03529412, 0.37254902, ..., 0.00392157,\n",
       "          0.00392157, 0.00392157],\n",
       "         [0.00392157, 0.47843137, 1.        , ..., 0.00392157,\n",
       "          0.00392157, 0.00392157],\n",
       "         ...,\n",
       "         [0.00392157, 0.47843137, 1.        , ..., 0.00392157,\n",
       "          0.00392157, 0.00392157],\n",
       "         [0.00392157, 0.03529412, 0.37254902, ..., 0.00392157,\n",
       "          0.00392157, 0.00392157],\n",
       "         [0.00392157, 0.00392157, 0.00392157, ..., 0.00392157,\n",
       "          0.00392157, 0.00392157]],\n",
       " \n",
       "        ...,\n",
       " \n",
       "        [[0.00392157, 0.00392157, 0.00392157, ..., 0.00392157,\n",
       "          0.00392157, 0.00392157],\n",
       "         [0.00392157, 0.00392157, 0.00392157, ..., 0.00392157,\n",
       "          0.00392157, 0.00392157],\n",
       "         [0.00392157, 0.00392157, 0.00392157, ..., 0.00392157,\n",
       "          0.00392157, 0.00392157],\n",
       "         ...,\n",
       "         [0.00392157, 0.00392157, 0.00392157, ..., 0.00392157,\n",
       "          0.00392157, 0.00392157],\n",
       "         [0.00392157, 0.00392157, 0.00392157, ..., 0.00392157,\n",
       "          0.00392157, 0.00392157],\n",
       "         [0.00392157, 0.00392157, 0.00392157, ..., 0.00392157,\n",
       "          0.00392157, 0.00392157]],\n",
       " \n",
       "        [[0.00392157, 0.00392157, 0.05098039, ..., 1.        ,\n",
       "          1.        , 0.05098039],\n",
       "         [0.00392157, 0.09803922, 1.        , ..., 1.        ,\n",
       "          1.        , 1.        ],\n",
       "         [0.14509804, 1.        , 1.        , ..., 1.        ,\n",
       "          1.        , 0.85882353],\n",
       "         ...,\n",
       "         [1.        , 1.        , 1.        , ..., 0.00392157,\n",
       "          0.00392157, 0.00392157],\n",
       "         [0.09803922, 1.        , 1.        , ..., 0.00392157,\n",
       "          0.00392157, 0.00392157],\n",
       "         [0.00392157, 0.05098039, 1.        , ..., 0.00392157,\n",
       "          0.00392157, 0.00392157]],\n",
       " \n",
       "        [[0.00392157, 0.00392157, 0.00392157, ..., 0.91764706,\n",
       "          1.        , 0.16862745],\n",
       "         [0.00392157, 0.00392157, 0.00392157, ..., 0.99215686,\n",
       "          1.        , 0.5372549 ],\n",
       "         [0.00392157, 0.00392157, 0.00392157, ..., 1.        ,\n",
       "          1.        , 0.90980392],\n",
       "         ...,\n",
       "         [1.        , 1.        , 0.8       , ..., 0.00392157,\n",
       "          0.00392157, 0.00392157],\n",
       "         [0.98431373, 0.89019608, 0.0745098 , ..., 0.00392157,\n",
       "          0.00392157, 0.00392157],\n",
       "         [0.83529412, 0.00392157, 0.00392157, ..., 0.00392157,\n",
       "          0.00392157, 0.00392157]]]),\n",
       " array([64258, 64257, 61704, ...,    35,    34,    33]))"
      ]
     },
     "execution_count": 31,
     "metadata": {},
     "output_type": "execute_result"
    }
   ],
   "source": [
    "xandy(data1)"
   ]
  },
  {
   "cell_type": "code",
   "execution_count": 4,
   "metadata": {},
   "outputs": [],
   "source": [
    "# step 2 \n",
    "def firstMap(yarray):\n",
    "    unique = 0\n",
    "    maps = dict()\n",
    "    for y in yarray:\n",
    "        if y not in maps:\n",
    "            unique += 1\n",
    "            maps[y] = unique-1 \n",
    "    return maps    "
   ]
  },
  {
   "cell_type": "code",
   "execution_count": 5,
   "metadata": {},
   "outputs": [],
   "source": [
    "X = xandy(data1)[0]\n",
    "#y = commaps(xandy(data1)[1])[0]\n",
    "maps = firstMap(xandy(data1)[1])"
   ]
  },
  {
   "cell_type": "code",
   "execution_count": 6,
   "metadata": {},
   "outputs": [],
   "source": [
    "def commaps(yarray,maps):    # for any input file starting from 2nd file, the length of 1 hot representation remains the same for further evaluation on un-trained data set\n",
    "    hot = np.zeros((yarray.shape[0],len(maps)))\n",
    "    for i in range(1,len(yarray)):\n",
    "        if yarray[i] in maps:\n",
    "            hot[i][maps[yarray[i]]] = 1\n",
    "    return hot"
   ]
  },
  {
   "cell_type": "code",
   "execution_count": 7,
   "metadata": {},
   "outputs": [],
   "source": [
    "y = commaps(xandy(data1)[1],maps)"
   ]
  },
  {
   "cell_type": "code",
   "execution_count": 8,
   "metadata": {},
   "outputs": [
    {
     "name": "stderr",
     "output_type": "stream",
     "text": [
      "Using TensorFlow backend.\n",
      "WARNING: Logging before flag parsing goes to stderr.\n",
      "W0723 14:33:06.525914 4570428864 deprecation_wrapper.py:119] From /usr/local/lib/python3.7/site-packages/keras/backend/tensorflow_backend.py:74: The name tf.get_default_graph is deprecated. Please use tf.compat.v1.get_default_graph instead.\n",
      "\n",
      "W0723 14:33:06.540985 4570428864 deprecation_wrapper.py:119] From /usr/local/lib/python3.7/site-packages/keras/backend/tensorflow_backend.py:517: The name tf.placeholder is deprecated. Please use tf.compat.v1.placeholder instead.\n",
      "\n",
      "W0723 14:33:06.543473 4570428864 deprecation_wrapper.py:119] From /usr/local/lib/python3.7/site-packages/keras/backend/tensorflow_backend.py:4138: The name tf.random_uniform is deprecated. Please use tf.random.uniform instead.\n",
      "\n",
      "W0723 14:33:06.562893 4570428864 deprecation_wrapper.py:119] From /usr/local/lib/python3.7/site-packages/keras/backend/tensorflow_backend.py:3976: The name tf.nn.max_pool is deprecated. Please use tf.nn.max_pool2d instead.\n",
      "\n",
      "W0723 14:33:06.591759 4570428864 deprecation_wrapper.py:119] From /usr/local/lib/python3.7/site-packages/keras/backend/tensorflow_backend.py:133: The name tf.placeholder_with_default is deprecated. Please use tf.compat.v1.placeholder_with_default instead.\n",
      "\n",
      "W0723 14:33:06.598489 4570428864 deprecation.py:506] From /usr/local/lib/python3.7/site-packages/keras/backend/tensorflow_backend.py:3445: calling dropout (from tensorflow.python.ops.nn_ops) with keep_prob is deprecated and will be removed in a future version.\n",
      "Instructions for updating:\n",
      "Please use `rate` instead of `keep_prob`. Rate should be set to `rate = 1 - keep_prob`.\n"
     ]
    }
   ],
   "source": [
    "# step 3 keras\n",
    "\n",
    "import keras as keras\n",
    "\n",
    "model = keras.models.Sequential([\n",
    "    keras.layers.Conv2D(filters=128 ,kernel_size=(4,4),activation='relu',input_shape=(20, 20, 1)),\n",
    "    keras.layers.MaxPooling2D(pool_size=(2, 2)),\n",
    "    keras.layers.Conv2D(filters=64 ,kernel_size=(4,4)),\n",
    "    keras.layers.MaxPooling2D(pool_size=(2, 2)),\n",
    "    keras.layers.Flatten(),\n",
    "    keras.layers.Dropout(0.1),\n",
    "    keras.layers.Dense(units= 64,activation='relu'),\n",
    "    keras.layers.Dense(units=y.shape[1], activation='softmax')\n",
    "])"
   ]
  },
  {
   "cell_type": "code",
   "execution_count": 9,
   "metadata": {},
   "outputs": [
    {
     "name": "stderr",
     "output_type": "stream",
     "text": [
      "W0723 14:33:09.640705 4570428864 deprecation_wrapper.py:119] From /usr/local/lib/python3.7/site-packages/keras/optimizers.py:790: The name tf.train.Optimizer is deprecated. Please use tf.compat.v1.train.Optimizer instead.\n",
      "\n",
      "W0723 14:33:09.664110 4570428864 deprecation_wrapper.py:119] From /usr/local/lib/python3.7/site-packages/keras/backend/tensorflow_backend.py:3295: The name tf.log is deprecated. Please use tf.math.log instead.\n",
      "\n"
     ]
    }
   ],
   "source": [
    "import tensorflow as tf\n",
    "model.compile(loss='categorical_crossentropy',\n",
    "                  optimizer='rmsprop',\n",
    "                  metrics=['accuracy'])"
   ]
  },
  {
   "cell_type": "code",
   "execution_count": 14,
   "metadata": {},
   "outputs": [],
   "source": [
    "# step 4\n",
    "from sklearn.model_selection import train_test_split, cross_val_predict, cross_val_score, KFold"
   ]
  },
  {
   "cell_type": "code",
   "execution_count": 15,
   "metadata": {},
   "outputs": [],
   "source": [
    "X = np.reshape(X, (-1, 20, 20, 1))\n",
    "X_train, X_test, y_train, y_test = train_test_split(X, y, random_state=1, test_size=0.5)"
   ]
  },
  {
   "cell_type": "code",
   "execution_count": 39,
   "metadata": {},
   "outputs": [
    {
     "name": "stdout",
     "output_type": "stream",
     "text": [
      "Epoch 1/50\n",
      "1334/1334 [==============================] - 1s 665us/step - loss: 6.5064 - acc: 0.0000e+00\n",
      "Epoch 2/50\n",
      "1334/1334 [==============================] - 1s 453us/step - loss: 6.3148 - acc: 0.0075\n",
      "Epoch 3/50\n",
      "1334/1334 [==============================] - 1s 483us/step - loss: 5.5988 - acc: 0.0382\n",
      "Epoch 4/50\n",
      "1334/1334 [==============================] - 1s 638us/step - loss: 4.6479 - acc: 0.1102\n",
      "Epoch 5/50\n",
      "1334/1334 [==============================] - 1s 457us/step - loss: 3.6826 - acc: 0.2196\n",
      "Epoch 6/50\n",
      "1334/1334 [==============================] - 1s 469us/step - loss: 2.9037 - acc: 0.3051\n",
      "Epoch 7/50\n",
      "1334/1334 [==============================] - 1s 451us/step - loss: 2.3857 - acc: 0.3711\n",
      "Epoch 8/50\n",
      "1334/1334 [==============================] - 1s 450us/step - loss: 2.0563 - acc: 0.4250\n",
      "Epoch 9/50\n",
      "1334/1334 [==============================] - 1s 450us/step - loss: 1.8245 - acc: 0.4700\n",
      "Epoch 10/50\n",
      "1334/1334 [==============================] - 1s 454us/step - loss: 1.5893 - acc: 0.5030\n",
      "Epoch 11/50\n",
      "1334/1334 [==============================] - 1s 452us/step - loss: 1.4822 - acc: 0.5487\n",
      "Epoch 12/50\n",
      "1334/1334 [==============================] - 1s 457us/step - loss: 1.3709 - acc: 0.5645\n",
      "Epoch 13/50\n",
      "1334/1334 [==============================] - 1s 458us/step - loss: 1.2657 - acc: 0.5982\n",
      "Epoch 14/50\n",
      "1334/1334 [==============================] - 1s 463us/step - loss: 1.1901 - acc: 0.6109\n",
      "Epoch 15/50\n",
      "1334/1334 [==============================] - 1s 456us/step - loss: 1.1236 - acc: 0.6267\n",
      "Epoch 16/50\n",
      "1334/1334 [==============================] - 1s 457us/step - loss: 1.0415 - acc: 0.6552\n",
      "Epoch 17/50\n",
      "1334/1334 [==============================] - 1s 459us/step - loss: 0.9866 - acc: 0.6694\n",
      "Epoch 18/50\n",
      "1334/1334 [==============================] - 1s 461us/step - loss: 0.9412 - acc: 0.6867\n",
      "Epoch 19/50\n",
      "1334/1334 [==============================] - 1s 456us/step - loss: 0.8979 - acc: 0.6807\n",
      "Epoch 20/50\n",
      "1334/1334 [==============================] - 1s 457us/step - loss: 0.8630 - acc: 0.7054\n",
      "Epoch 21/50\n",
      "1334/1334 [==============================] - 1s 462us/step - loss: 0.8146 - acc: 0.7211\n",
      "Epoch 22/50\n",
      "1334/1334 [==============================] - 1s 457us/step - loss: 0.7610 - acc: 0.7466\n",
      "Epoch 23/50\n",
      "1334/1334 [==============================] - 1s 467us/step - loss: 0.7642 - acc: 0.7361\n",
      "Epoch 24/50\n",
      "1334/1334 [==============================] - 1s 458us/step - loss: 0.7367 - acc: 0.7414\n",
      "Epoch 25/50\n",
      "1334/1334 [==============================] - 1s 460us/step - loss: 0.6942 - acc: 0.7511\n",
      "Epoch 26/50\n",
      "1334/1334 [==============================] - 1s 459us/step - loss: 0.6860 - acc: 0.7601\n",
      "Epoch 27/50\n",
      "1334/1334 [==============================] - 1s 455us/step - loss: 0.6454 - acc: 0.7639\n",
      "Epoch 28/50\n",
      "1334/1334 [==============================] - 1s 466us/step - loss: 0.6312 - acc: 0.7774\n",
      "Epoch 29/50\n",
      "1334/1334 [==============================] - 1s 573us/step - loss: 0.6102 - acc: 0.7826\n",
      "Epoch 30/50\n",
      "1334/1334 [==============================] - 1s 555us/step - loss: 0.5875 - acc: 0.7849\n",
      "Epoch 31/50\n",
      "1334/1334 [==============================] - 1s 463us/step - loss: 0.5648 - acc: 0.8081\n",
      "Epoch 32/50\n",
      "1334/1334 [==============================] - 1s 466us/step - loss: 0.5519 - acc: 0.8066\n",
      "Epoch 33/50\n",
      "1334/1334 [==============================] - 1s 455us/step - loss: 0.5332 - acc: 0.8178\n",
      "Epoch 34/50\n",
      "1334/1334 [==============================] - 1s 457us/step - loss: 0.5121 - acc: 0.8186\n",
      "Epoch 35/50\n",
      "1334/1334 [==============================] - 1s 455us/step - loss: 0.5199 - acc: 0.8036\n",
      "Epoch 36/50\n",
      "1334/1334 [==============================] - 1s 456us/step - loss: 0.5079 - acc: 0.8118\n",
      "Epoch 37/50\n",
      "1334/1334 [==============================] - 1s 460us/step - loss: 0.4648 - acc: 0.8238\n",
      "Epoch 38/50\n",
      "1334/1334 [==============================] - 1s 465us/step - loss: 0.4648 - acc: 0.8216\n",
      "Epoch 39/50\n",
      "1334/1334 [==============================] - 1s 546us/step - loss: 0.4520 - acc: 0.8396\n",
      "Epoch 40/50\n",
      "1334/1334 [==============================] - 1s 473us/step - loss: 0.4547 - acc: 0.8261\n",
      "Epoch 41/50\n",
      "1334/1334 [==============================] - 1s 470us/step - loss: 0.4399 - acc: 0.8336\n",
      "Epoch 42/50\n",
      "1334/1334 [==============================] - 1s 561us/step - loss: 0.4365 - acc: 0.8403\n",
      "Epoch 43/50\n",
      "1334/1334 [==============================] - 1s 463us/step - loss: 0.4303 - acc: 0.8463\n",
      "Epoch 44/50\n",
      "1334/1334 [==============================] - 1s 448us/step - loss: 0.3924 - acc: 0.8448\n",
      "Epoch 45/50\n",
      "1334/1334 [==============================] - 1s 451us/step - loss: 0.4049 - acc: 0.8486\n",
      "Epoch 46/50\n",
      "1334/1334 [==============================] - 1s 455us/step - loss: 0.3900 - acc: 0.8516\n",
      "Epoch 47/50\n",
      "1334/1334 [==============================] - 1s 457us/step - loss: 0.4052 - acc: 0.8523\n",
      "Epoch 48/50\n",
      "1334/1334 [==============================] - 1s 459us/step - loss: 0.3880 - acc: 0.8523\n",
      "Epoch 49/50\n",
      "1334/1334 [==============================] - 1s 461us/step - loss: 0.3747 - acc: 0.8658\n",
      "Epoch 50/50\n",
      "1334/1334 [==============================] - 1s 463us/step - loss: 0.3860 - acc: 0.8538\n",
      "1334/1334 [==============================] - 0s 179us/step\n",
      "Train accuracy: 0.9062968517529375\n",
      "1334/1334 [==============================] - 0s 133us/step\n",
      "Test accuracy: 0.38905547244259264\n"
     ]
    }
   ],
   "source": [
    "model.fit(np.array(X_train), np.array(y_train), epochs=50, batch_size=32)\n",
    "\n",
    "train_loss, train_acc = model.evaluate(np.array(X_train), np.array(y_train), batch_size=32)\n",
    "print('Train accuracy:', train_acc)\n",
    "\n",
    "test_loss, test_acc = model.evaluate(np.array(X_test), np.array(y_test), batch_size=32)\n",
    "print('Test accuracy:', test_acc)"
   ]
  },
  {
   "cell_type": "code",
   "execution_count": 40,
   "metadata": {},
   "outputs": [],
   "source": [
    "# try a network with different topology\n",
    "\n",
    "model2 = keras.models.Sequential([\n",
    "    #keras.layers.Conv2D(filters=128 ,kernel_size=(3,3),activation='relu',input_shape=(20, 20, 1)),\n",
    "    #keras.layers.MaxPooling2D(pool_size=(2, 2)),\n",
    "    keras.layers.Conv2D(filters=128 ,kernel_size=(3,3)),\n",
    "    keras.layers.MaxPooling2D(pool_size=(2, 2)),\n",
    "    keras.layers.Flatten(),\n",
    "    keras.layers.Dropout(0.3),\n",
    "    #keras.layers.Dense(units= 64,activation='relu'),\n",
    "    keras.layers.Dense(units=y.shape[1], activation='softmax')\n",
    "])\n",
    "\n",
    "model2.compile(loss='categorical_crossentropy',\n",
    "                  optimizer='rmsprop',\n",
    "                  metrics=['accuracy'])\n"
   ]
  },
  {
   "cell_type": "code",
   "execution_count": 41,
   "metadata": {},
   "outputs": [
    {
     "name": "stdout",
     "output_type": "stream",
     "text": [
      "Epoch 1/50\n",
      "1334/1334 [==============================] - 3s 2ms/step - loss: 6.2895 - acc: 0.0802\n",
      "Epoch 2/50\n",
      "1334/1334 [==============================] - 2s 2ms/step - loss: 4.1069 - acc: 0.3276\n",
      "Epoch 3/50\n",
      "1334/1334 [==============================] - 2s 2ms/step - loss: 2.3012 - acc: 0.5375\n",
      "Epoch 4/50\n",
      "1334/1334 [==============================] - 2s 2ms/step - loss: 1.5757 - acc: 0.6357\n",
      "Epoch 5/50\n",
      "1334/1334 [==============================] - 3s 2ms/step - loss: 1.1489 - acc: 0.7166\n",
      "Epoch 6/50\n",
      "1334/1334 [==============================] - 2s 2ms/step - loss: 0.9162 - acc: 0.7534\n",
      "Epoch 7/50\n",
      "1334/1334 [==============================] - 3s 2ms/step - loss: 0.7640 - acc: 0.7931\n",
      "Epoch 8/50\n",
      "1334/1334 [==============================] - 2s 2ms/step - loss: 0.6541 - acc: 0.8253\n",
      "Epoch 9/50\n",
      "1334/1334 [==============================] - 2s 2ms/step - loss: 0.5984 - acc: 0.8433\n",
      "Epoch 10/50\n",
      "1334/1334 [==============================] - 3s 2ms/step - loss: 0.5503 - acc: 0.8418\n",
      "Epoch 11/50\n",
      "1334/1334 [==============================] - 3s 2ms/step - loss: 0.5192 - acc: 0.8576\n",
      "Epoch 12/50\n",
      "1334/1334 [==============================] - 2s 2ms/step - loss: 0.4809 - acc: 0.8636\n",
      "Epoch 13/50\n",
      "1334/1334 [==============================] - 2s 2ms/step - loss: 0.4574 - acc: 0.8681\n",
      "Epoch 14/50\n",
      "1334/1334 [==============================] - 2s 2ms/step - loss: 0.4220 - acc: 0.8696\n",
      "Epoch 15/50\n",
      "1334/1334 [==============================] - 2s 2ms/step - loss: 0.4100 - acc: 0.8808\n",
      "Epoch 16/50\n",
      "1334/1334 [==============================] - 2s 2ms/step - loss: 0.3815 - acc: 0.8913\n",
      "Epoch 17/50\n",
      "1334/1334 [==============================] - 2s 2ms/step - loss: 0.3677 - acc: 0.8921\n",
      "Epoch 18/50\n",
      "1334/1334 [==============================] - 2s 2ms/step - loss: 0.3669 - acc: 0.8868\n",
      "Epoch 19/50\n",
      "1334/1334 [==============================] - 2s 2ms/step - loss: 0.3594 - acc: 0.8891\n",
      "Epoch 20/50\n",
      "1334/1334 [==============================] - 2s 2ms/step - loss: 0.3350 - acc: 0.8883\n",
      "Epoch 21/50\n",
      "1334/1334 [==============================] - 3s 2ms/step - loss: 0.3328 - acc: 0.8913\n",
      "Epoch 22/50\n",
      "1334/1334 [==============================] - 3s 2ms/step - loss: 0.3306 - acc: 0.8921\n",
      "Epoch 23/50\n",
      "1334/1334 [==============================] - 3s 2ms/step - loss: 0.3121 - acc: 0.8973\n",
      "Epoch 24/50\n",
      "1334/1334 [==============================] - 3s 2ms/step - loss: 0.3101 - acc: 0.8928\n",
      "Epoch 25/50\n",
      "1334/1334 [==============================] - 3s 2ms/step - loss: 0.2985 - acc: 0.8958\n",
      "Epoch 26/50\n",
      "1334/1334 [==============================] - 3s 2ms/step - loss: 0.3000 - acc: 0.9040\n",
      "Epoch 27/50\n",
      "1334/1334 [==============================] - 3s 2ms/step - loss: 0.3034 - acc: 0.8928\n",
      "Epoch 28/50\n",
      "1334/1334 [==============================] - 3s 2ms/step - loss: 0.2949 - acc: 0.8973\n",
      "Epoch 29/50\n",
      "1334/1334 [==============================] - 3s 2ms/step - loss: 0.2932 - acc: 0.8988\n",
      "Epoch 30/50\n",
      "1334/1334 [==============================] - 3s 2ms/step - loss: 0.2874 - acc: 0.9040\n",
      "Epoch 31/50\n",
      "1334/1334 [==============================] - 3s 2ms/step - loss: 0.2860 - acc: 0.8996\n",
      "Epoch 32/50\n",
      "1334/1334 [==============================] - 3s 2ms/step - loss: 0.2783 - acc: 0.8981\n",
      "Epoch 33/50\n",
      "1334/1334 [==============================] - 2s 2ms/step - loss: 0.2846 - acc: 0.9018\n",
      "Epoch 34/50\n",
      "1334/1334 [==============================] - 3s 2ms/step - loss: 0.2711 - acc: 0.9025\n",
      "Epoch 35/50\n",
      "1334/1334 [==============================] - 3s 2ms/step - loss: 0.2698 - acc: 0.9010\n",
      "Epoch 36/50\n",
      "1334/1334 [==============================] - 2s 2ms/step - loss: 0.2640 - acc: 0.9040\n",
      "Epoch 37/50\n",
      "1334/1334 [==============================] - 3s 2ms/step - loss: 0.2608 - acc: 0.9018\n",
      "Epoch 38/50\n",
      "1334/1334 [==============================] - 3s 2ms/step - loss: 0.2655 - acc: 0.9025\n",
      "Epoch 39/50\n",
      "1334/1334 [==============================] - 2s 2ms/step - loss: 0.2572 - acc: 0.8988\n",
      "Epoch 40/50\n",
      "1334/1334 [==============================] - 2s 2ms/step - loss: 0.2642 - acc: 0.9003\n",
      "Epoch 41/50\n",
      "1334/1334 [==============================] - 2s 2ms/step - loss: 0.2579 - acc: 0.8966\n",
      "Epoch 42/50\n",
      "1334/1334 [==============================] - 3s 2ms/step - loss: 0.2590 - acc: 0.9040\n",
      "Epoch 43/50\n",
      "1334/1334 [==============================] - 3s 3ms/step - loss: 0.2429 - acc: 0.9078\n",
      "Epoch 44/50\n",
      "1334/1334 [==============================] - 3s 2ms/step - loss: 0.2474 - acc: 0.9040\n",
      "Epoch 45/50\n",
      "1334/1334 [==============================] - 3s 2ms/step - loss: 0.2501 - acc: 0.9025\n",
      "Epoch 46/50\n",
      "1334/1334 [==============================] - 2s 2ms/step - loss: 0.2467 - acc: 0.9055\n",
      "Epoch 47/50\n",
      "1334/1334 [==============================] - 2s 2ms/step - loss: 0.2474 - acc: 0.9048\n",
      "Epoch 48/50\n",
      "1334/1334 [==============================] - 2s 2ms/step - loss: 0.2433 - acc: 0.9018\n",
      "Epoch 49/50\n",
      "1334/1334 [==============================] - 2s 2ms/step - loss: 0.2405 - acc: 0.9063\n",
      "Epoch 50/50\n",
      "1334/1334 [==============================] - 2s 2ms/step - loss: 0.2441 - acc: 0.9048\n",
      "1334/1334 [==============================] - 0s 285us/step\n",
      "1334/1334 [==============================] - 0s 226us/step\n",
      "Train2 accuracy: 0.9280359821877201\n",
      "Test2 accuracy: 0.4685157423076601\n"
     ]
    }
   ],
   "source": [
    "model2.fit(np.array(X_train), np.array(y_train), epochs=50, batch_size=32)\n",
    "\n",
    "train2_loss, train2_acc = model2.evaluate(np.array(X_train), np.array(y_train), batch_size=32)\n",
    "\n",
    "test2_loss, test2_acc = model2.evaluate(np.array(X_test), np.array(y_test), batch_size=32)\n",
    "\n",
    "print('Train2 accuracy:', train2_acc)\n",
    "print('Test2 accuracy:', test2_acc)"
   ]
  },
  {
   "cell_type": "markdown",
   "metadata": {},
   "source": [
    "The above model2 is slightly better than the first model."
   ]
  },
  {
   "cell_type": "code",
   "execution_count": 16,
   "metadata": {},
   "outputs": [],
   "source": [
    "def acc_font_model2(df):\n",
    "    \n",
    "    data2 = pd.concat([df.ix[:,2:3],df.ix[:,12:]], axis=1)\n",
    "\n",
    "    X2 = xandy(data2)[0]\n",
    "    y2 = commaps(xandy(data2)[1],maps)\n",
    "    \n",
    "    X2 = np.reshape(X2, (-1, 20, 20, 1))\n",
    "    X_train2, X_test2, y_train2, y_test2 = train_test_split(X2, y2, random_state=1, test_size=0.5)\n",
    "    \n",
    "    model2 = keras.models.Sequential([\n",
    "        #keras.layers.Conv2D(filters=128 ,kernel_size=(3,3),activation='relu',input_shape=(20, 20, 1)),\n",
    "        #keras.layers.MaxPooling2D(pool_size=(2, 2)),\n",
    "        keras.layers.Conv2D(filters=128 ,kernel_size=(3,3)),\n",
    "        keras.layers.MaxPooling2D(pool_size=(2, 2)),\n",
    "        keras.layers.Flatten(),\n",
    "        keras.layers.Dropout(0.3),\n",
    "        #keras.layers.Dense(units= 64,activation='relu'),\n",
    "        keras.layers.Dense(units=y2.shape[1], activation='softmax')\n",
    "    ])\n",
    "\n",
    "    model2.compile(loss='categorical_crossentropy',\n",
    "                  optimizer='rmsprop',\n",
    "                  metrics=['accuracy'])\n",
    "    \n",
    "    model2.fit(np.array(X_train2), np.array(y_train2), epochs=50, batch_size=32)\n",
    "\n",
    "    train2_loss2, train2_acc2 = model2.evaluate(np.array(X_train2), np.array(y_train2), batch_size=32)\n",
    "\n",
    "    test2_loss2, test2_acc2 = model2.evaluate(np.array(X_test2), np.array(y_test2), batch_size=32)\n",
    "\n",
    "    print('Train2 accuracy2:', train2_acc2)\n",
    "    print('Test2 accuracy2:', test2_acc2)\n",
    "    \n",
    "    return model2"
   ]
  },
  {
   "cell_type": "code",
   "execution_count": 43,
   "metadata": {},
   "outputs": [
    {
     "name": "stderr",
     "output_type": "stream",
     "text": [
      "/usr/local/lib/python3.7/site-packages/ipykernel_launcher.py:3: DeprecationWarning: \n",
      ".ix is deprecated. Please use\n",
      ".loc for label based indexing or\n",
      ".iloc for positional indexing\n",
      "\n",
      "See the documentation here:\n",
      "http://pandas.pydata.org/pandas-docs/stable/indexing.html#ix-indexer-is-deprecated\n",
      "  This is separate from the ipykernel package so we can avoid doing imports until\n"
     ]
    },
    {
     "name": "stdout",
     "output_type": "stream",
     "text": [
      "Epoch 1/50\n",
      "502/502 [==============================] - 1s 3ms/step - loss: 6.2475 - acc: 0.0239\n",
      "Epoch 2/50\n",
      "502/502 [==============================] - 1s 2ms/step - loss: 4.2359 - acc: 0.2729\n",
      "Epoch 3/50\n",
      "502/502 [==============================] - 1s 2ms/step - loss: 2.5735 - acc: 0.4900\n",
      "Epoch 4/50\n",
      "502/502 [==============================] - 1s 2ms/step - loss: 1.5882 - acc: 0.6135\n",
      "Epoch 5/50\n",
      "502/502 [==============================] - 1s 2ms/step - loss: 1.1067 - acc: 0.7171\n",
      "Epoch 6/50\n",
      "502/502 [==============================] - 1s 2ms/step - loss: 0.8430 - acc: 0.7649\n",
      "Epoch 7/50\n",
      "502/502 [==============================] - 1s 2ms/step - loss: 0.7202 - acc: 0.7908\n",
      "Epoch 8/50\n",
      "502/502 [==============================] - 1s 2ms/step - loss: 0.6355 - acc: 0.8227\n",
      "Epoch 9/50\n",
      "502/502 [==============================] - 1s 2ms/step - loss: 0.5275 - acc: 0.8426\n",
      "Epoch 10/50\n",
      "502/502 [==============================] - 1s 2ms/step - loss: 0.4834 - acc: 0.8606\n",
      "Epoch 11/50\n",
      "502/502 [==============================] - 1s 2ms/step - loss: 0.4329 - acc: 0.8705\n",
      "Epoch 12/50\n",
      "502/502 [==============================] - 1s 2ms/step - loss: 0.4025 - acc: 0.8884\n",
      "Epoch 13/50\n",
      "502/502 [==============================] - 1s 2ms/step - loss: 0.3743 - acc: 0.8964\n",
      "Epoch 14/50\n",
      "502/502 [==============================] - 1s 2ms/step - loss: 0.3390 - acc: 0.8964\n",
      "Epoch 15/50\n",
      "502/502 [==============================] - 1s 2ms/step - loss: 0.3062 - acc: 0.9084\n",
      "Epoch 16/50\n",
      "502/502 [==============================] - 1s 2ms/step - loss: 0.3119 - acc: 0.8944\n",
      "Epoch 17/50\n",
      "502/502 [==============================] - 1s 2ms/step - loss: 0.2801 - acc: 0.9024\n",
      "Epoch 18/50\n",
      "502/502 [==============================] - 1s 2ms/step - loss: 0.2766 - acc: 0.9124\n",
      "Epoch 19/50\n",
      "502/502 [==============================] - 1s 2ms/step - loss: 0.2579 - acc: 0.9084\n",
      "Epoch 20/50\n",
      "502/502 [==============================] - 1s 2ms/step - loss: 0.2482 - acc: 0.9104\n",
      "Epoch 21/50\n",
      "502/502 [==============================] - 1s 2ms/step - loss: 0.2430 - acc: 0.9143\n",
      "Epoch 22/50\n",
      "502/502 [==============================] - 1s 2ms/step - loss: 0.2350 - acc: 0.9084\n",
      "Epoch 23/50\n",
      "502/502 [==============================] - 1s 2ms/step - loss: 0.2297 - acc: 0.9124\n",
      "Epoch 24/50\n",
      "502/502 [==============================] - 1s 2ms/step - loss: 0.2189 - acc: 0.9243\n",
      "Epoch 25/50\n",
      "502/502 [==============================] - 1s 2ms/step - loss: 0.2093 - acc: 0.9143\n",
      "Epoch 26/50\n",
      "502/502 [==============================] - 1s 2ms/step - loss: 0.2063 - acc: 0.9203\n",
      "Epoch 27/50\n",
      "502/502 [==============================] - 1s 2ms/step - loss: 0.2062 - acc: 0.9223\n",
      "Epoch 28/50\n",
      "502/502 [==============================] - 1s 2ms/step - loss: 0.2061 - acc: 0.9343\n",
      "Epoch 29/50\n",
      "502/502 [==============================] - 1s 2ms/step - loss: 0.1965 - acc: 0.9203\n",
      "Epoch 30/50\n",
      "502/502 [==============================] - 1s 2ms/step - loss: 0.1863 - acc: 0.9303\n",
      "Epoch 31/50\n",
      "502/502 [==============================] - 1s 2ms/step - loss: 0.1895 - acc: 0.9283\n",
      "Epoch 32/50\n",
      "502/502 [==============================] - 1s 2ms/step - loss: 0.1898 - acc: 0.9223\n",
      "Epoch 33/50\n",
      "502/502 [==============================] - 1s 2ms/step - loss: 0.1847 - acc: 0.9303\n",
      "Epoch 34/50\n",
      "502/502 [==============================] - 1s 2ms/step - loss: 0.1819 - acc: 0.9303\n",
      "Epoch 35/50\n",
      "502/502 [==============================] - 1s 2ms/step - loss: 0.1847 - acc: 0.9243\n",
      "Epoch 36/50\n",
      "502/502 [==============================] - 1s 2ms/step - loss: 0.1670 - acc: 0.9382\n",
      "Epoch 37/50\n",
      "502/502 [==============================] - 1s 2ms/step - loss: 0.1758 - acc: 0.9243\n",
      "Epoch 38/50\n",
      "502/502 [==============================] - 1s 2ms/step - loss: 0.1765 - acc: 0.9303\n",
      "Epoch 39/50\n",
      "502/502 [==============================] - 1s 2ms/step - loss: 0.1647 - acc: 0.9283\n",
      "Epoch 40/50\n",
      "502/502 [==============================] - 1s 2ms/step - loss: 0.1694 - acc: 0.9283\n",
      "Epoch 41/50\n",
      "502/502 [==============================] - 1s 2ms/step - loss: 0.1658 - acc: 0.9303\n",
      "Epoch 42/50\n",
      "502/502 [==============================] - 1s 2ms/step - loss: 0.1685 - acc: 0.9323\n",
      "Epoch 43/50\n",
      "502/502 [==============================] - 1s 2ms/step - loss: 0.1626 - acc: 0.9283\n",
      "Epoch 44/50\n",
      "502/502 [==============================] - 1s 2ms/step - loss: 0.1651 - acc: 0.9263\n",
      "Epoch 45/50\n",
      "502/502 [==============================] - 1s 2ms/step - loss: 0.1633 - acc: 0.9343\n",
      "Epoch 46/50\n",
      "502/502 [==============================] - 1s 2ms/step - loss: 0.1596 - acc: 0.9323\n",
      "Epoch 47/50\n",
      "502/502 [==============================] - 1s 2ms/step - loss: 0.1506 - acc: 0.9343\n",
      "Epoch 48/50\n",
      "502/502 [==============================] - 1s 2ms/step - loss: 0.1595 - acc: 0.9323\n",
      "Epoch 49/50\n",
      "502/502 [==============================] - 1s 2ms/step - loss: 0.1534 - acc: 0.9283\n",
      "Epoch 50/50\n",
      "502/502 [==============================] - 1s 2ms/step - loss: 0.1498 - acc: 0.9363\n",
      "502/502 [==============================] - 0s 377us/step\n",
      "502/502 [==============================] - 0s 215us/step\n",
      "Train2 accuracy2: 0.9462151406295746\n",
      "Test2 accuracy2: 0.34063745019920316\n"
     ]
    },
    {
     "data": {
      "text/plain": [
       "<keras.engine.sequential.Sequential at 0x138ec17f0>"
      ]
     },
     "execution_count": 43,
     "metadata": {},
     "output_type": "execute_result"
    }
   ],
   "source": [
    "data2_ = pd.read_csv('AGENCY.csv')\n",
    "acc_font_model2(data2_)"
   ]
  },
  {
   "cell_type": "markdown",
   "metadata": {},
   "source": [
    "Training data on a different set, it performs worse. "
   ]
  },
  {
   "cell_type": "code",
   "execution_count": 17,
   "metadata": {},
   "outputs": [
    {
     "name": "stderr",
     "output_type": "stream",
     "text": [
      "/usr/local/lib/python3.7/site-packages/ipykernel_launcher.py:3: DeprecationWarning: \n",
      ".ix is deprecated. Please use\n",
      ".loc for label based indexing or\n",
      ".iloc for positional indexing\n",
      "\n",
      "See the documentation here:\n",
      "http://pandas.pydata.org/pandas-docs/stable/indexing.html#ix-indexer-is-deprecated\n",
      "  This is separate from the ipykernel package so we can avoid doing imports until\n",
      "W0723 14:35:04.614427 4570428864 deprecation.py:323] From /usr/local/lib/python3.7/site-packages/tensorflow/python/ops/math_grad.py:1250: add_dispatch_support.<locals>.wrapper (from tensorflow.python.ops.array_ops) is deprecated and will be removed in a future version.\n",
      "Instructions for updating:\n",
      "Use tf.where in 2.0, which has the same broadcast rule as np.where\n"
     ]
    },
    {
     "name": "stdout",
     "output_type": "stream",
     "text": [
      "Epoch 1/50\n",
      "1484/1484 [==============================] - 4s 2ms/step - loss: 5.2953 - acc: 0.1078\n",
      "Epoch 2/50\n",
      "1484/1484 [==============================] - 4s 3ms/step - loss: 2.2909 - acc: 0.4791\n",
      "Epoch 3/50\n",
      "1484/1484 [==============================] - 3s 2ms/step - loss: 1.3013 - acc: 0.6577\n",
      "Epoch 4/50\n",
      "1484/1484 [==============================] - 3s 2ms/step - loss: 0.9442 - acc: 0.7379\n",
      "Epoch 5/50\n",
      "1484/1484 [==============================] - 3s 2ms/step - loss: 0.7437 - acc: 0.7985\n",
      "Epoch 6/50\n",
      "1484/1484 [==============================] - 3s 2ms/step - loss: 0.6124 - acc: 0.8282\n",
      "Epoch 7/50\n",
      "1484/1484 [==============================] - 3s 2ms/step - loss: 0.5421 - acc: 0.8356\n",
      "Epoch 8/50\n",
      "1484/1484 [==============================] - 3s 2ms/step - loss: 0.4518 - acc: 0.8558\n",
      "Epoch 9/50\n",
      "1484/1484 [==============================] - 4s 2ms/step - loss: 0.3857 - acc: 0.8848\n",
      "Epoch 10/50\n",
      "1484/1484 [==============================] - 3s 2ms/step - loss: 0.3578 - acc: 0.8868\n",
      "Epoch 11/50\n",
      "1484/1484 [==============================] - 3s 2ms/step - loss: 0.3214 - acc: 0.8982\n",
      "Epoch 12/50\n",
      "1484/1484 [==============================] - 3s 2ms/step - loss: 0.2974 - acc: 0.9016\n",
      "Epoch 13/50\n",
      "1484/1484 [==============================] - 3s 2ms/step - loss: 0.2847 - acc: 0.9131\n",
      "Epoch 14/50\n",
      "1484/1484 [==============================] - 3s 2ms/step - loss: 0.2632 - acc: 0.9131\n",
      "Epoch 15/50\n",
      "1484/1484 [==============================] - 3s 2ms/step - loss: 0.2496 - acc: 0.9131\n",
      "Epoch 16/50\n",
      "1484/1484 [==============================] - 3s 2ms/step - loss: 0.2352 - acc: 0.9191\n",
      "Epoch 17/50\n",
      "1484/1484 [==============================] - 3s 2ms/step - loss: 0.2153 - acc: 0.9225\n",
      "Epoch 18/50\n",
      "1484/1484 [==============================] - 3s 2ms/step - loss: 0.2060 - acc: 0.9292\n",
      "Epoch 19/50\n",
      "1484/1484 [==============================] - 3s 2ms/step - loss: 0.2026 - acc: 0.9259\n",
      "Epoch 20/50\n",
      "1484/1484 [==============================] - 3s 2ms/step - loss: 0.1965 - acc: 0.9292\n",
      "Epoch 21/50\n",
      "1484/1484 [==============================] - 3s 2ms/step - loss: 0.1878 - acc: 0.9279\n",
      "Epoch 22/50\n",
      "1484/1484 [==============================] - 3s 2ms/step - loss: 0.1697 - acc: 0.9360\n",
      "Epoch 23/50\n",
      "1484/1484 [==============================] - 3s 2ms/step - loss: 0.1800 - acc: 0.9394\n",
      "Epoch 24/50\n",
      "1484/1484 [==============================] - 3s 2ms/step - loss: 0.1707 - acc: 0.9427\n",
      "Epoch 25/50\n",
      "1484/1484 [==============================] - 3s 2ms/step - loss: 0.1558 - acc: 0.9427\n",
      "Epoch 26/50\n",
      "1484/1484 [==============================] - 3s 2ms/step - loss: 0.1652 - acc: 0.9414\n",
      "Epoch 27/50\n",
      "1484/1484 [==============================] - 3s 2ms/step - loss: 0.1644 - acc: 0.9420\n",
      "Epoch 28/50\n",
      "1484/1484 [==============================] - 3s 2ms/step - loss: 0.1405 - acc: 0.9468\n",
      "Epoch 29/50\n",
      "1484/1484 [==============================] - 3s 2ms/step - loss: 0.1417 - acc: 0.9474\n",
      "Epoch 30/50\n",
      "1484/1484 [==============================] - 3s 2ms/step - loss: 0.1507 - acc: 0.9414\n",
      "Epoch 31/50\n",
      "1484/1484 [==============================] - 3s 2ms/step - loss: 0.1512 - acc: 0.9387\n",
      "Epoch 32/50\n",
      "1484/1484 [==============================] - 3s 2ms/step - loss: 0.1414 - acc: 0.9495\n",
      "Epoch 33/50\n",
      "1484/1484 [==============================] - 3s 2ms/step - loss: 0.1428 - acc: 0.9394\n",
      "Epoch 34/50\n",
      "1484/1484 [==============================] - 3s 2ms/step - loss: 0.1430 - acc: 0.9468\n",
      "Epoch 35/50\n",
      "1484/1484 [==============================] - 3s 2ms/step - loss: 0.1405 - acc: 0.9454\n",
      "Epoch 36/50\n",
      "1484/1484 [==============================] - 3s 2ms/step - loss: 0.1278 - acc: 0.9488\n",
      "Epoch 37/50\n",
      "1484/1484 [==============================] - 3s 2ms/step - loss: 0.1410 - acc: 0.9468\n",
      "Epoch 38/50\n",
      "1484/1484 [==============================] - 3s 2ms/step - loss: 0.1312 - acc: 0.9495\n",
      "Epoch 39/50\n",
      "1484/1484 [==============================] - 3s 2ms/step - loss: 0.1264 - acc: 0.9522\n",
      "Epoch 40/50\n",
      "1484/1484 [==============================] - 3s 2ms/step - loss: 0.1341 - acc: 0.9508\n",
      "Epoch 41/50\n",
      "1484/1484 [==============================] - 3s 2ms/step - loss: 0.1270 - acc: 0.9522\n",
      "Epoch 42/50\n",
      "1484/1484 [==============================] - 3s 2ms/step - loss: 0.1216 - acc: 0.9549\n",
      "Epoch 43/50\n",
      "1484/1484 [==============================] - 3s 2ms/step - loss: 0.1251 - acc: 0.9528\n",
      "Epoch 44/50\n",
      "1484/1484 [==============================] - 3s 2ms/step - loss: 0.1294 - acc: 0.9481\n",
      "Epoch 45/50\n",
      "1484/1484 [==============================] - 3s 2ms/step - loss: 0.1253 - acc: 0.9528\n",
      "Epoch 46/50\n",
      "1484/1484 [==============================] - 3s 2ms/step - loss: 0.1256 - acc: 0.9528\n",
      "Epoch 47/50\n",
      "1484/1484 [==============================] - 3s 2ms/step - loss: 0.1203 - acc: 0.9549\n",
      "Epoch 48/50\n",
      "1484/1484 [==============================] - 3s 2ms/step - loss: 0.1215 - acc: 0.9555\n",
      "Epoch 49/50\n",
      "1484/1484 [==============================] - 3s 2ms/step - loss: 0.1216 - acc: 0.9501\n",
      "Epoch 50/50\n",
      "1484/1484 [==============================] - 3s 2ms/step - loss: 0.1211 - acc: 0.9562\n",
      "1484/1484 [==============================] - 0s 335us/step\n",
      "1484/1484 [==============================] - 0s 239us/step\n",
      "Train2 accuracy2: 0.9629380053908356\n",
      "Test2 accuracy2: 0.5997304582210242\n"
     ]
    }
   ],
   "source": [
    "df1 = pd.read_csv(\"BELL.csv\")\n",
    "df2 = pd.read_csv(\"BERLIN.csv\")\n",
    "df3 = df1.append(df2)\n",
    "myModel = acc_font_model2(df3)"
   ]
  },
  {
   "cell_type": "markdown",
   "metadata": {},
   "source": [
    "The model2 (my better model) performs better with more input data to train and test."
   ]
  },
  {
   "cell_type": "code",
   "execution_count": 18,
   "metadata": {},
   "outputs": [
    {
     "name": "stderr",
     "output_type": "stream",
     "text": [
      "/usr/local/lib/python3.7/site-packages/ipykernel_launcher.py:6: DeprecationWarning: \n",
      ".ix is deprecated. Please use\n",
      ".loc for label based indexing or\n",
      ".iloc for positional indexing\n",
      "\n",
      "See the documentation here:\n",
      "http://pandas.pydata.org/pandas-docs/stable/indexing.html#ix-indexer-is-deprecated\n",
      "  \n"
     ]
    },
    {
     "name": "stdout",
     "output_type": "stream",
     "text": [
      "980/980 [==============================] - 0s 258us/step\n"
     ]
    }
   ],
   "source": [
    "# after reserving the 1 hot representation from the 1st input file and make all the further files stick to this\n",
    "# 1st map ( if not in this 1st maps, ignore), the dimension of this y.shape[1] layer matches\n",
    "\n",
    "df3 = pd.read_csv(\"BRADLEY.csv\")\n",
    "\n",
    "d3 = pd.concat([df3.ix[:,2:3],df3.ix[:,12:]], axis=1)\n",
    "\n",
    "X3 = xandy(d3)[0]\n",
    "y3= commaps(xandy(d3)[1],maps)\n",
    "    \n",
    "X3 = np.reshape(X3, (-1, 20, 20, 1))\n",
    "\n",
    "t3_loss2, t3_acc2 = myModel.evaluate(np.array(X3), np.array(y3), batch_size=32)"
   ]
  },
  {
   "cell_type": "code",
   "execution_count": 20,
   "metadata": {},
   "outputs": [
    {
     "name": "stdout",
     "output_type": "stream",
     "text": [
      "6.234147496126136\n",
      "0.25000000012164214\n"
     ]
    }
   ],
   "source": [
    "print(t3_loss2)\n",
    "print(t3_acc2)"
   ]
  },
  {
   "cell_type": "markdown",
   "metadata": {},
   "source": [
    "Q: What accuracy do you see when testing with inputs from a font you didn't train on?\n",
    "\n",
    "A: about 0.25 accuracy"
   ]
  },
  {
   "cell_type": "code",
   "execution_count": 48,
   "metadata": {},
   "outputs": [
    {
     "name": "stderr",
     "output_type": "stream",
     "text": [
      "/usr/local/lib/python3.7/site-packages/ipykernel_launcher.py:5: DeprecationWarning: \n",
      ".ix is deprecated. Please use\n",
      ".loc for label based indexing or\n",
      ".iloc for positional indexing\n",
      "\n",
      "See the documentation here:\n",
      "http://pandas.pydata.org/pandas-docs/stable/indexing.html#ix-indexer-is-deprecated\n",
      "  \"\"\"\n"
     ]
    },
    {
     "name": "stdout",
     "output_type": "stream",
     "text": [
      "Epoch 1/50\n",
      "1484/1484 [==============================] - 4s 3ms/step - loss: 5.2901 - acc: 0.1173\n",
      "Epoch 2/50\n",
      "1484/1484 [==============================] - 4s 2ms/step - loss: 2.2934 - acc: 0.4805\n",
      "Epoch 3/50\n",
      "1484/1484 [==============================] - 3s 2ms/step - loss: 1.3025 - acc: 0.6590\n",
      "Epoch 4/50\n",
      "1484/1484 [==============================] - 3s 2ms/step - loss: 0.9239 - acc: 0.7399\n",
      "Epoch 5/50\n",
      "1484/1484 [==============================] - 3s 2ms/step - loss: 0.7310 - acc: 0.7823\n",
      "Epoch 6/50\n",
      "1484/1484 [==============================] - 3s 2ms/step - loss: 0.6109 - acc: 0.8214\n",
      "Epoch 7/50\n",
      "1484/1484 [==============================] - 3s 2ms/step - loss: 0.5077 - acc: 0.8538\n",
      "Epoch 8/50\n",
      "1484/1484 [==============================] - 4s 3ms/step - loss: 0.4514 - acc: 0.8592\n",
      "Epoch 9/50\n",
      "1484/1484 [==============================] - 3s 2ms/step - loss: 0.3959 - acc: 0.8787\n",
      "Epoch 10/50\n",
      "1484/1484 [==============================] - 3s 2ms/step - loss: 0.3619 - acc: 0.8807\n",
      "Epoch 11/50\n",
      "1484/1484 [==============================] - 3s 2ms/step - loss: 0.3301 - acc: 0.8902\n",
      "Epoch 12/50\n",
      "1484/1484 [==============================] - 3s 2ms/step - loss: 0.2933 - acc: 0.8989\n",
      "Epoch 13/50\n",
      "1484/1484 [==============================] - 3s 2ms/step - loss: 0.2775 - acc: 0.9131\n",
      "Epoch 14/50\n",
      "1484/1484 [==============================] - 3s 2ms/step - loss: 0.2599 - acc: 0.9137\n",
      "Epoch 15/50\n",
      "1484/1484 [==============================] - 3s 2ms/step - loss: 0.2355 - acc: 0.9198\n",
      "Epoch 16/50\n",
      "1484/1484 [==============================] - 3s 2ms/step - loss: 0.2275 - acc: 0.9212\n",
      "Epoch 17/50\n",
      "1484/1484 [==============================] - 3s 2ms/step - loss: 0.2115 - acc: 0.9265\n",
      "Epoch 18/50\n",
      "1484/1484 [==============================] - 4s 2ms/step - loss: 0.2069 - acc: 0.9239\n",
      "Epoch 19/50\n",
      "1484/1484 [==============================] - 3s 2ms/step - loss: 0.1956 - acc: 0.9326\n",
      "Epoch 20/50\n",
      "1484/1484 [==============================] - 3s 2ms/step - loss: 0.1936 - acc: 0.9353\n",
      "Epoch 21/50\n",
      "1484/1484 [==============================] - 3s 2ms/step - loss: 0.1863 - acc: 0.9286\n",
      "Epoch 22/50\n",
      "1484/1484 [==============================] - 4s 3ms/step - loss: 0.1742 - acc: 0.9387\n",
      "Epoch 23/50\n",
      "1484/1484 [==============================] - 3s 2ms/step - loss: 0.1680 - acc: 0.9400\n",
      "Epoch 24/50\n",
      "1484/1484 [==============================] - 3s 2ms/step - loss: 0.1663 - acc: 0.9380\n",
      "Epoch 25/50\n",
      "1484/1484 [==============================] - 3s 2ms/step - loss: 0.1601 - acc: 0.9420\n",
      "Epoch 26/50\n",
      "1484/1484 [==============================] - 3s 2ms/step - loss: 0.1587 - acc: 0.9454\n",
      "Epoch 27/50\n",
      "1484/1484 [==============================] - 3s 2ms/step - loss: 0.1576 - acc: 0.9434\n",
      "Epoch 28/50\n",
      "1484/1484 [==============================] - 3s 2ms/step - loss: 0.1470 - acc: 0.9441\n",
      "Epoch 29/50\n",
      "1484/1484 [==============================] - 3s 2ms/step - loss: 0.1529 - acc: 0.9468\n",
      "Epoch 30/50\n",
      "1484/1484 [==============================] - 3s 2ms/step - loss: 0.1529 - acc: 0.9441\n",
      "Epoch 31/50\n",
      "1484/1484 [==============================] - 3s 2ms/step - loss: 0.1438 - acc: 0.9474\n",
      "Epoch 32/50\n",
      "1484/1484 [==============================] - 3s 2ms/step - loss: 0.1428 - acc: 0.9481\n",
      "Epoch 33/50\n",
      "1484/1484 [==============================] - 3s 2ms/step - loss: 0.1385 - acc: 0.9447\n",
      "Epoch 34/50\n",
      "1484/1484 [==============================] - 3s 2ms/step - loss: 0.1402 - acc: 0.9495\n",
      "Epoch 35/50\n",
      "1484/1484 [==============================] - 3s 2ms/step - loss: 0.1291 - acc: 0.9495\n",
      "Epoch 36/50\n",
      "1484/1484 [==============================] - 3s 2ms/step - loss: 0.1342 - acc: 0.9535\n",
      "Epoch 37/50\n",
      "1484/1484 [==============================] - 3s 2ms/step - loss: 0.1358 - acc: 0.9495\n",
      "Epoch 38/50\n",
      "1484/1484 [==============================] - 3s 2ms/step - loss: 0.1262 - acc: 0.9488\n",
      "Epoch 39/50\n",
      "1484/1484 [==============================] - 3s 2ms/step - loss: 0.1285 - acc: 0.9495\n",
      "Epoch 40/50\n",
      "1484/1484 [==============================] - 3s 2ms/step - loss: 0.1356 - acc: 0.9508\n",
      "Epoch 41/50\n",
      "1484/1484 [==============================] - 3s 2ms/step - loss: 0.1328 - acc: 0.9447\n",
      "Epoch 42/50\n",
      "1484/1484 [==============================] - 3s 2ms/step - loss: 0.1241 - acc: 0.9555\n",
      "Epoch 43/50\n",
      "1484/1484 [==============================] - 3s 2ms/step - loss: 0.1165 - acc: 0.9542\n",
      "Epoch 44/50\n",
      "1484/1484 [==============================] - 3s 2ms/step - loss: 0.1167 - acc: 0.9569\n",
      "Epoch 45/50\n",
      "1484/1484 [==============================] - 3s 2ms/step - loss: 0.1300 - acc: 0.9515\n",
      "Epoch 46/50\n",
      "1484/1484 [==============================] - 3s 2ms/step - loss: 0.1264 - acc: 0.9515\n",
      "Epoch 47/50\n",
      "1484/1484 [==============================] - 3s 2ms/step - loss: 0.1164 - acc: 0.9549\n",
      "Epoch 48/50\n",
      "1484/1484 [==============================] - 3s 2ms/step - loss: 0.1212 - acc: 0.9549\n",
      "Epoch 49/50\n",
      "1484/1484 [==============================] - 3s 2ms/step - loss: 0.1157 - acc: 0.9549\n",
      "Epoch 50/50\n",
      "1484/1484 [==============================] - 3s 2ms/step - loss: 0.1267 - acc: 0.9508\n"
     ]
    },
    {
     "data": {
      "text/plain": [
       "<keras.callbacks.History at 0x1395a7e48>"
      ]
     },
     "execution_count": 48,
     "metadata": {},
     "output_type": "execute_result"
    }
   ],
   "source": [
    "df1 = pd.read_csv(\"BELL.csv\")\n",
    "df2 = pd.read_csv(\"BERLIN.csv\")\n",
    "df3 = df1.append(df2)\n",
    "\n",
    "data2 = pd.concat([df3.ix[:,2:3],df3.ix[:,12:]], axis=1)\n",
    "\n",
    "X2 = xandy(data2)[0]\n",
    "y2 = commaps(xandy(data2)[1],maps)\n",
    "    \n",
    "X2 = np.reshape(X2, (-1, 20, 20, 1))\n",
    "X_train2, X_test2, y_train2, y_test2 = train_test_split(X2, y2, random_state=1, test_size=0.5)\n",
    "    \n",
    "model2 = keras.models.Sequential([\n",
    "    #keras.layers.Conv2D(filters=128 ,kernel_size=(3,3),activation='relu',input_shape=(20, 20, 1)),\n",
    "    #keras.layers.MaxPooling2D(pool_size=(2, 2)),\n",
    "    keras.layers.Conv2D(filters=128 ,kernel_size=(3,3)),\n",
    "    keras.layers.MaxPooling2D(pool_size=(2, 2)),\n",
    "    keras.layers.Flatten(),\n",
    "    keras.layers.Dropout(0.3),\n",
    "    #keras.layers.Dense(units= 64,activation='relu'),\n",
    "    keras.layers.Dense(units=y2.shape[1], activation='softmax')\n",
    "])\n",
    "\n",
    "model2.compile(loss='categorical_crossentropy',\n",
    "                  optimizer='rmsprop',\n",
    "                  metrics=['accuracy'])\n",
    "    \n",
    "model2.fit(np.array(X_train2), np.array(y_train2), epochs=50, batch_size=32)"
   ]
  },
  {
   "cell_type": "code",
   "execution_count": 49,
   "metadata": {},
   "outputs": [
    {
     "name": "stdout",
     "output_type": "stream",
     "text": [
      "1484/1484 [==============================] - 0s 315us/step\n",
      "1484/1484 [==============================] - 0s 252us/step\n",
      "Train2 accuracy2: 0.9615902964959568\n",
      "Test2 accuracy2: 0.5902964959568733\n"
     ]
    }
   ],
   "source": [
    "train2_loss2, train2_acc2 = model2.evaluate(np.array(X_train2), np.array(y_train2), batch_size=32)\n",
    "\n",
    "test2_loss2, test2_acc2 = model2.evaluate(np.array(X_test2), np.array(y_test2), batch_size=32)\n",
    "\n",
    "print('Train2 accuracy2:', train2_acc2)\n",
    "print('Test2 accuracy2:', test2_acc2)"
   ]
  },
  {
   "cell_type": "code",
   "execution_count": 26,
   "metadata": {},
   "outputs": [],
   "source": [
    "import matplotlib.pyplot as plt"
   ]
  },
  {
   "cell_type": "code",
   "execution_count": 91,
   "metadata": {},
   "outputs": [
    {
     "name": "stdout",
     "output_type": "stream",
     "text": [
      "The misclassified ones\n"
     ]
    },
    {
     "data": {
      "text/plain": [
       "<Figure size 720x720 with 0 Axes>"
      ]
     },
     "metadata": {},
     "output_type": "display_data"
    },
    {
     "data": {
      "text/plain": [
       "<Figure size 720x720 with 0 Axes>"
      ]
     },
     "metadata": {},
     "output_type": "display_data"
    },
    {
     "name": "stdout",
     "output_type": "stream",
     "text": [
      "3\n"
     ]
    },
    {
     "data": {
      "image/png": "[encoded data removed]",
      "text/plain": [
       "<Figure size 432x288 with 1 Axes>"
      ]
     },
     "metadata": {
      "needs_background": "light"
     },
     "output_type": "display_data"
    },
    {
     "name": "stdout",
     "output_type": "stream",
     "text": [
      "4\n"
     ]
    },
    {
     "data": {
      "image/png": "[encoded data removed]",
      "text/plain": [
       "<Figure size 432x288 with 1 Axes>"
      ]
     },
     "metadata": {
      "needs_background": "light"
     },
     "output_type": "display_data"
    },
    {
     "name": "stdout",
     "output_type": "stream",
     "text": [
      "7\n"
     ]
    },
    {
     "data": {
      "image/png": "[encoded data removed]",
      "text/plain": [
       "<Figure size 432x288 with 1 Axes>"
      ]
     },
     "metadata": {
      "needs_background": "light"
     },
     "output_type": "display_data"
    },
    {
     "name": "stdout",
     "output_type": "stream",
     "text": [
      "8\n"
     ]
    },
    {
     "data": {
      "image/png": "[encoded data removed]",
      "text/plain": [
       "<Figure size 432x288 with 1 Axes>"
      ]
     },
     "metadata": {
      "needs_background": "light"
     },
     "output_type": "display_data"
    },
    {
     "name": "stdout",
     "output_type": "stream",
     "text": [
      "9\n"
     ]
    },
    {
     "data": {
      "image/png": "[encoded data removed]",
      "text/plain": [
       "<Figure size 432x288 with 1 Axes>"
      ]
     },
     "metadata": {
      "needs_background": "light"
     },
     "output_type": "display_data"
    },
    {
     "name": "stdout",
     "output_type": "stream",
     "text": [
      "13\n"
     ]
    },
    {
     "data": {
      "image/png": "[encoded data removed]",
      "text/plain": [
       "<Figure size 432x288 with 1 Axes>"
      ]
     },
     "metadata": {
      "needs_background": "light"
     },
     "output_type": "display_data"
    },
    {
     "name": "stdout",
     "output_type": "stream",
     "text": [
      "16\n"
     ]
    },
    {
     "data": {
      "image/png": "[encoded data removed]",
      "text/plain": [
       "<Figure size 432x288 with 1 Axes>"
      ]
     },
     "metadata": {
      "needs_background": "light"
     },
     "output_type": "display_data"
    },
    {
     "name": "stdout",
     "output_type": "stream",
     "text": [
      "19\n"
     ]
    },
    {
     "data": {
      "image/png": "[encoded data removed]",
      "text/plain": [
       "<Figure size 432x288 with 1 Axes>"
      ]
     },
     "metadata": {
      "needs_background": "light"
     },
     "output_type": "display_data"
    },
    {
     "name": "stdout",
     "output_type": "stream",
     "text": [
      "23\n"
     ]
    },
    {
     "data": {
      "image/png": "[encoded data removed]",
      "text/plain": [
       "<Figure size 432x288 with 1 Axes>"
      ]
     },
     "metadata": {
      "needs_background": "light"
     },
     "output_type": "display_data"
    },
    {
     "name": "stdout",
     "output_type": "stream",
     "text": [
      "25\n"
     ]
    },
    {
     "data": {
      "image/png": "[encoded data removed]",
      "text/plain": [
       "<Figure size 432x288 with 1 Axes>"
      ]
     },
     "metadata": {
      "needs_background": "light"
     },
     "output_type": "display_data"
    },
    {
     "name": "stdout",
     "output_type": "stream",
     "text": [
      "26\n"
     ]
    },
    {
     "data": {
      "image/png": "[encoded data removed]",
      "text/plain": [
       "<Figure size 432x288 with 1 Axes>"
      ]
     },
     "metadata": {
      "needs_background": "light"
     },
     "output_type": "display_data"
    },
    {
     "name": "stdout",
     "output_type": "stream",
     "text": [
      "27\n"
     ]
    },
    {
     "data": {
      "image/png": "[encoded data removed]",
      "text/plain": [
       "<Figure size 432x288 with 1 Axes>"
      ]
     },
     "metadata": {
      "needs_background": "light"
     },
     "output_type": "display_data"
    },
    {
     "name": "stdout",
     "output_type": "stream",
     "text": [
      "32\n"
     ]
    },
    {
     "data": {
      "image/png": "[encoded data removed]",
      "text/plain": [
       "<Figure size 432x288 with 1 Axes>"
      ]
     },
     "metadata": {
      "needs_background": "light"
     },
     "output_type": "display_data"
    },
    {
     "name": "stdout",
     "output_type": "stream",
     "text": [
      "35\n"
     ]
    },
    {
     "data": {
      "image/png": "[encoded data removed]",
      "text/plain": [
       "<Figure size 432x288 with 1 Axes>"
      ]
     },
     "metadata": {
      "needs_background": "light"
     },
     "output_type": "display_data"
    },
    {
     "name": "stdout",
     "output_type": "stream",
     "text": [
      "36\n"
     ]
    },
    {
     "data": {
      "image/png": "[encoded data removed]",
      "text/plain": [
       "<Figure size 432x288 with 1 Axes>"
      ]
     },
     "metadata": {
      "needs_background": "light"
     },
     "output_type": "display_data"
    },
    {
     "name": "stdout",
     "output_type": "stream",
     "text": [
      "37\n"
     ]
    },
    {
     "data": {
      "image/png": "[encoded data removed]",
      "text/plain": [
       "<Figure size 432x288 with 1 Axes>"
      ]
     },
     "metadata": {
      "needs_background": "light"
     },
     "output_type": "display_data"
    },
    {
     "name": "stdout",
     "output_type": "stream",
     "text": [
      "39\n"
     ]
    },
    {
     "data": {
      "image/png": "[encoded data removed]",
      "text/plain": [
       "<Figure size 432x288 with 1 Axes>"
      ]
     },
     "metadata": {
      "needs_background": "light"
     },
     "output_type": "display_data"
    },
    {
     "name": "stdout",
     "output_type": "stream",
     "text": [
      "41\n"
     ]
    },
    {
     "data": {
      "image/png": "[encoded data removed]",
      "text/plain": [
       "<Figure size 432x288 with 1 Axes>"
      ]
     },
     "metadata": {
      "needs_background": "light"
     },
     "output_type": "display_data"
    },
    {
     "name": "stdout",
     "output_type": "stream",
     "text": [
      "43\n"
     ]
    },
    {
     "data": {
      "image/png": "[encoded data removed]",
      "text/plain": [
       "<Figure size 432x288 with 1 Axes>"
      ]
     },
     "metadata": {
      "needs_background": "light"
     },
     "output_type": "display_data"
    },
    {
     "name": "stdout",
     "output_type": "stream",
     "text": [
      "47\n"
     ]
    },
    {
     "data": {
      "image/png": "[encoded data removed]",
      "text/plain": [
       "<Figure size 432x288 with 1 Axes>"
      ]
     },
     "metadata": {
      "needs_background": "light"
     },
     "output_type": "display_data"
    },
    {
     "name": "stdout",
     "output_type": "stream",
     "text": [
      "48\n"
     ]
    },
    {
     "data": {
      "image/png": "[encoded data removed]",
      "text/plain": [
       "<Figure size 432x288 with 1 Axes>"
      ]
     },
     "metadata": {
      "needs_background": "light"
     },
     "output_type": "display_data"
    },
    {
     "name": "stdout",
     "output_type": "stream",
     "text": [
      "49\n"
     ]
    },
    {
     "data": {
      "image/png": "[encoded data removed]",
      "text/plain": [
       "<Figure size 432x288 with 1 Axes>"
      ]
     },
     "metadata": {
      "needs_background": "light"
     },
     "output_type": "display_data"
    },
    {
     "name": "stdout",
     "output_type": "stream",
     "text": [
      "62\n"
     ]
    },
    {
     "data": {
      "image/png": "[encoded data removed]",
      "text/plain": [
       "<Figure size 432x288 with 1 Axes>"
      ]
     },
     "metadata": {
      "needs_background": "light"
     },
     "output_type": "display_data"
    },
    {
     "name": "stdout",
     "output_type": "stream",
     "text": [
      "64\n"
     ]
    },
    {
     "data": {
      "image/png": "[encoded data removed]",
      "text/plain": [
       "<Figure size 432x288 with 1 Axes>"
      ]
     },
     "metadata": {
      "needs_background": "light"
     },
     "output_type": "display_data"
    },
    {
     "name": "stdout",
     "output_type": "stream",
     "text": [
      "68\n"
     ]
    },
    {
     "data": {
      "image/png": "[encoded data removed]",
      "text/plain": [
       "<Figure size 432x288 with 1 Axes>"
      ]
     },
     "metadata": {
      "needs_background": "light"
     },
     "output_type": "display_data"
    },
    {
     "name": "stdout",
     "output_type": "stream",
     "text": [
      "69\n"
     ]
    },
    {
     "data": {
      "image/png": "[encoded data removed]",
      "text/plain": [
       "<Figure size 432x288 with 1 Axes>"
      ]
     },
     "metadata": {
      "needs_background": "light"
     },
     "output_type": "display_data"
    },
    {
     "name": "stdout",
     "output_type": "stream",
     "text": [
      "70\n"
     ]
    },
    {
     "data": {
      "image/png": "[encoded data removed]",
      "text/plain": [
       "<Figure size 432x288 with 1 Axes>"
      ]
     },
     "metadata": {
      "needs_background": "light"
     },
     "output_type": "display_data"
    },
    {
     "name": "stdout",
     "output_type": "stream",
     "text": [
      "72\n"
     ]
    },
    {
     "data": {
      "image/png": "[encoded data removed]",
      "text/plain": [
       "<Figure size 432x288 with 1 Axes>"
      ]
     },
     "metadata": {
      "needs_background": "light"
     },
     "output_type": "display_data"
    },
    {
     "name": "stdout",
     "output_type": "stream",
     "text": [
      "73\n"
     ]
    },
    {
     "data": {
      "image/png": "[encoded data removed]",
      "text/plain": [
       "<Figure size 432x288 with 1 Axes>"
      ]
     },
     "metadata": {
      "needs_background": "light"
     },
     "output_type": "display_data"
    },
    {
     "name": "stdout",
     "output_type": "stream",
     "text": [
      "74\n"
     ]
    },
    {
     "data": {
      "image/png": "[encoded data removed]",
      "text/plain": [
       "<Figure size 432x288 with 1 Axes>"
      ]
     },
     "metadata": {
      "needs_background": "light"
     },
     "output_type": "display_data"
    },
    {
     "name": "stdout",
     "output_type": "stream",
     "text": [
      "76\n"
     ]
    },
    {
     "data": {
      "image/png": "[encoded data removed]",
      "text/plain": [
       "<Figure size 432x288 with 1 Axes>"
      ]
     },
     "metadata": {
      "needs_background": "light"
     },
     "output_type": "display_data"
    },
    {
     "name": "stdout",
     "output_type": "stream",
     "text": [
      "80\n"
     ]
    },
    {
     "data": {
      "image/png": "[encoded data removed]",
      "text/plain": [
       "<Figure size 432x288 with 1 Axes>"
      ]
     },
     "metadata": {
      "needs_background": "light"
     },
     "output_type": "display_data"
    },
    {
     "name": "stdout",
     "output_type": "stream",
     "text": [
      "82\n"
     ]
    },
    {
     "data": {
      "image/png": "[encoded data removed]",
      "text/plain": [
       "<Figure size 432x288 with 1 Axes>"
      ]
     },
     "metadata": {
      "needs_background": "light"
     },
     "output_type": "display_data"
    },
    {
     "name": "stdout",
     "output_type": "stream",
     "text": [
      "91\n"
     ]
    },
    {
     "data": {
      "image/png": "[encoded data removed]",
      "text/plain": [
       "<Figure size 432x288 with 1 Axes>"
      ]
     },
     "metadata": {
      "needs_background": "light"
     },
     "output_type": "display_data"
    },
    {
     "name": "stdout",
     "output_type": "stream",
     "text": [
      "93\n"
     ]
    },
    {
     "data": {
      "image/png": "[encoded data removed]",
      "text/plain": [
       "<Figure size 432x288 with 1 Axes>"
      ]
     },
     "metadata": {
      "needs_background": "light"
     },
     "output_type": "display_data"
    },
    {
     "name": "stdout",
     "output_type": "stream",
     "text": [
      "95\n"
     ]
    },
    {
     "data": {
      "image/png": "[encoded data removed]",
      "text/plain": [
       "<Figure size 432x288 with 1 Axes>"
      ]
     },
     "metadata": {
      "needs_background": "light"
     },
     "output_type": "display_data"
    },
    {
     "name": "stdout",
     "output_type": "stream",
     "text": [
      "99\n"
     ]
    },
    {
     "data": {
      "image/png": "[encoded data removed]",
      "text/plain": [
       "<Figure size 432x288 with 1 Axes>"
      ]
     },
     "metadata": {
      "needs_background": "light"
     },
     "output_type": "display_data"
    }
   ],
   "source": [
    "# see the misclassified fonts \n",
    "y_pred = model2.predict(X_test2, batch_size = 32, verbose = 0, steps=None)\n",
    "\n",
    "print('The misclassified ones')\n",
    "plt.figure(figsize= (10, 10))    \n",
    "for i in range(100):\n",
    "    m = np.amax(y_pred[i])\n",
    "    for j in range(len(y_pred[i])):\n",
    "        if y_pred[i][j]==m:\n",
    "            y_pred[i][j] = 1\n",
    "        else:\n",
    "            y_pred[i][j] = 0\n",
    "\n",
    "plt.figure(figsize= (10, 10))            \n",
    "for i in range(100): \n",
    "    if not np.array_equal(y_pred[i],y_test2[i]):\n",
    "        print(i)\n",
    "        plt.subplot(10, 10, i+1) \n",
    "        plt.imshow(np.reshape(X_test2[i],(20, 20)), cmap='Greys',interpolation='nearest')\n",
    "        plt.axis('off')\n",
    "    plt.show()      \n"
   ]
  },
  {
   "cell_type": "code",
   "execution_count": 52,
   "metadata": {},
   "outputs": [
    {
     "name": "stdout",
     "output_type": "stream",
     "text": [
      "The unsure ones: relative probability <= 0.6\n"
     ]
    },
    {
     "data": {
      "text/plain": [
       "<Figure size 720x720 with 0 Axes>"
      ]
     },
     "metadata": {},
     "output_type": "display_data"
    },
    {
     "name": "stdout",
     "output_type": "stream",
     "text": [
      "0.493179\n"
     ]
    },
    {
     "data": {
      "image/png": "[encoded data removed]",
      "text/plain": [
       "<Figure size 432x288 with 1 Axes>"
      ]
     },
     "metadata": {
      "needs_background": "light"
     },
     "output_type": "display_data"
    },
    {
     "name": "stdout",
     "output_type": "stream",
     "text": [
      "0.3484897\n"
     ]
    },
    {
     "data": {
      "image/png": "[encoded data removed]",
      "text/plain": [
       "<Figure size 432x288 with 1 Axes>"
      ]
     },
     "metadata": {
      "needs_background": "light"
     },
     "output_type": "display_data"
    },
    {
     "name": "stdout",
     "output_type": "stream",
     "text": [
      "0.36090755\n"
     ]
    },
    {
     "data": {
      "image/png": "[encoded data removed]",
      "text/plain": [
       "<Figure size 432x288 with 1 Axes>"
      ]
     },
     "metadata": {
      "needs_background": "light"
     },
     "output_type": "display_data"
    },
    {
     "name": "stdout",
     "output_type": "stream",
     "text": [
      "0.5649593\n"
     ]
    },
    {
     "data": {
      "image/png": "[encoded data removed]",
      "text/plain": [
       "<Figure size 432x288 with 1 Axes>"
      ]
     },
     "metadata": {
      "needs_background": "light"
     },
     "output_type": "display_data"
    },
    {
     "name": "stdout",
     "output_type": "stream",
     "text": [
      "0.43105805\n"
     ]
    },
    {
     "data": {
      "image/png": "[encoded data removed]",
      "text/plain": [
       "<Figure size 432x288 with 1 Axes>"
      ]
     },
     "metadata": {
      "needs_background": "light"
     },
     "output_type": "display_data"
    },
    {
     "name": "stdout",
     "output_type": "stream",
     "text": [
      "0.28980228\n"
     ]
    },
    {
     "data": {
      "image/png": "[encoded data removed]",
      "text/plain": [
       "<Figure size 432x288 with 1 Axes>"
      ]
     },
     "metadata": {
      "needs_background": "light"
     },
     "output_type": "display_data"
    },
    {
     "name": "stdout",
     "output_type": "stream",
     "text": [
      "0.4565668\n"
     ]
    },
    {
     "data": {
      "image/png": "[encoded data removed]",
      "text/plain": [
       "<Figure size 432x288 with 1 Axes>"
      ]
     },
     "metadata": {
      "needs_background": "light"
     },
     "output_type": "display_data"
    },
    {
     "name": "stdout",
     "output_type": "stream",
     "text": [
      "0.37364718\n"
     ]
    },
    {
     "data": {
      "image/png": "[encoded data removed]",
      "text/plain": [
       "<Figure size 432x288 with 1 Axes>"
      ]
     },
     "metadata": {
      "needs_background": "light"
     },
     "output_type": "display_data"
    },
    {
     "name": "stdout",
     "output_type": "stream",
     "text": [
      "0.44757542\n"
     ]
    },
    {
     "data": {
      "image/png": "[encoded data removed]",
      "text/plain": [
       "<Figure size 432x288 with 1 Axes>"
      ]
     },
     "metadata": {
      "needs_background": "light"
     },
     "output_type": "display_data"
    },
    {
     "name": "stdout",
     "output_type": "stream",
     "text": [
      "0.5915868\n"
     ]
    },
    {
     "data": {
      "image/png": "[encoded data removed]",
      "text/plain": [
       "<Figure size 432x288 with 1 Axes>"
      ]
     },
     "metadata": {
      "needs_background": "light"
     },
     "output_type": "display_data"
    },
    {
     "name": "stdout",
     "output_type": "stream",
     "text": [
      "0.33593664\n"
     ]
    },
    {
     "data": {
      "image/png": "[encoded data removed]",
      "text/plain": [
       "<Figure size 432x288 with 1 Axes>"
      ]
     },
     "metadata": {
      "needs_background": "light"
     },
     "output_type": "display_data"
    },
    {
     "name": "stdout",
     "output_type": "stream",
     "text": [
      "0.3489976\n"
     ]
    },
    {
     "data": {
      "image/png": "[encoded data removed]",
      "text/plain": [
       "<Figure size 432x288 with 1 Axes>"
      ]
     },
     "metadata": {
      "needs_background": "light"
     },
     "output_type": "display_data"
    },
    {
     "name": "stdout",
     "output_type": "stream",
     "text": [
      "0.53052545\n"
     ]
    },
    {
     "data": {
      "image/png": "[encoded data removed]",
      "text/plain": [
       "<Figure size 432x288 with 1 Axes>"
      ]
     },
     "metadata": {
      "needs_background": "light"
     },
     "output_type": "display_data"
    },
    {
     "name": "stdout",
     "output_type": "stream",
     "text": [
      "all the first 100 characters\n"
     ]
    },
    {
     "data": {
      "image/png": "[encoded data removed]",
      "text/plain": [
       "<Figure size 720x720 with 100 Axes>"
      ]
     },
     "metadata": {
      "needs_background": "light"
     },
     "output_type": "display_data"
    }
   ],
   "source": [
    "# see the unsure fonts and compare them with all the fonts (first 100 fonts)\n",
    "print('The unsure ones: relative probability <= 0.6')\n",
    "plt.figure(figsize= (10, 10))    \n",
    "for i in range(100):\n",
    "    if np.amax(y_pred[i])<=0.6:\n",
    "        print(np.amax(y_pred[i]))\n",
    "        plt.subplot(10, 10, i+1)\n",
    "        plt.imshow(np.reshape(X_test2[i],(20, 20)), cmap='Greys',interpolation='nearest')\n",
    "        plt.axis('off')\n",
    "    plt.show()\n",
    "\n",
    "print('all the first 100 characters')\n",
    "plt.figure(figsize= (10, 10))    \n",
    "for i in range(100):\n",
    "    plt.subplot(10, 10, i+1)\n",
    "    plt.imshow(np.reshape(X_test2[i],(20, 20)), cmap='Greys',interpolation='nearest')\n",
    "    plt.axis('off')\n",
    "plt.show()"
   ]
  },
  {
   "cell_type": "markdown",
   "metadata": {},
   "source": [
    "Q: Do you notice any patterns (on misclassified)? \n",
    "\n",
    "A: The one with small detailed parts(like i with 2 dots), or the one has similar fonts (like square). Latter one is easy to understand intuitively: NN needs more delicate details to distingush the latter one from its similar fonts since for the bulk part they are very much the same. But the delicate details involves small area with thin boundaries, which has only few neurons from previous layer, or few pixels from input. Fewer points are more likely to have lower accuracy, and more easily to be misclassified.\n",
    "\n",
    "Q:Can you find examples where the network is unsure of the result?\n",
    "\n",
    "A: It seems from the graphs that the ones with less detailed and unique boundaries are more confusing to NN. My understanding is that NN needs to divide input pixels into neurons which are kind of transformed disassembled pieces of input; if the input has more detailed and unique pieces (more complex and clean small boundaries) then the corresponding nuerons are more illustrative (sure) for classification. Otherwise NN was confused (unsure).\n",
    "\n",
    "In general, the misclassified and unsure ones are opppsite to each other. There has to be some trade off between the two."
   ]
  },
  {
   "cell_type": "code",
   "execution_count": null,
   "metadata": {},
   "outputs": [],
   "source": [
    " # step 5. denoising images"
   ]
  },
  {
   "cell_type": "code",
   "execution_count": 22,
   "metadata": {},
   "outputs": [
    {
     "name": "stderr",
     "output_type": "stream",
     "text": [
      "/usr/local/lib/python3.7/site-packages/ipykernel_launcher.py:5: DeprecationWarning: \n",
      ".ix is deprecated. Please use\n",
      ".loc for label based indexing or\n",
      ".iloc for positional indexing\n",
      "\n",
      "See the documentation here:\n",
      "http://pandas.pydata.org/pandas-docs/stable/indexing.html#ix-indexer-is-deprecated\n",
      "  \"\"\"\n"
     ]
    }
   ],
   "source": [
    "df1 = pd.read_csv(\"BOOK.csv\")\n",
    "df2 = pd.read_csv(\"BERLIN.csv\")\n",
    "df3 = df1.append(df2)\n",
    "\n",
    "data2 = pd.concat([df3.ix[:,2:3],df3.ix[:,12:]], axis=1)\n",
    "\n",
    "X2 = xandy(data2)[0]\n",
    "y2 = commaps(xandy(data2)[1],maps)\n",
    "    \n",
    "X2 = np.reshape(X2, (-1, 20, 20, 1))\n",
    "X_train2, X_test2, y_train2, y_test2 = train_test_split(X2, y2, random_state=1, test_size=0.5)\n",
    " "
   ]
  },
  {
   "cell_type": "code",
   "execution_count": 23,
   "metadata": {},
   "outputs": [],
   "source": [
    "x_train_2d = np.reshape(X_train2, (X_train2.shape[0], 20, 20 , 1))\n",
    "x_test_2d = np.reshape(X_test2, (X_test2.shape[0], 20, 20 , 1))"
   ]
  },
  {
   "cell_type": "code",
   "execution_count": 24,
   "metadata": {},
   "outputs": [],
   "source": [
    "noise_factor = 0.5\n",
    "x_train_noisy = x_train_2d + noise_factor * np.random.normal(loc=0.0, scale=1.0, size=x_train_2d.shape) \n",
    "x_test_noisy = x_test_2d + noise_factor * np.random.normal(loc=0.0, scale=1.0, size=x_test_2d.shape) \n",
    "\n",
    "x_train_noisy = np.clip(x_train_noisy, 0., 1.)\n",
    "x_test_noisy = np.clip(x_test_noisy, 0., 1.)"
   ]
  },
  {
   "cell_type": "code",
   "execution_count": 28,
   "metadata": {},
   "outputs": [
    {
     "data": {
      "image/png": "[encoded data removed]",
      "text/plain": [
       "<Figure size 1440x144 with 10 Axes>"
      ]
     },
     "metadata": {
      "needs_background": "light"
     },
     "output_type": "display_data"
    }
   ],
   "source": [
    "n = 10\n",
    "plt.figure(figsize=(20, 2))\n",
    "for i in range(n):\n",
    "    ax = plt.subplot(1, n, i + 1)\n",
    "    plt.imshow(x_test_noisy[i].reshape(20, 20))\n",
    "    plt.gray()\n",
    "    ax.get_xaxis().set_visible(False)\n",
    "    ax.get_yaxis().set_visible(False)\n",
    "plt.show()"
   ]
  },
  {
   "cell_type": "code",
   "execution_count": 30,
   "metadata": {},
   "outputs": [
    {
     "name": "stderr",
     "output_type": "stream",
     "text": [
      "W0723 14:57:23.582195 4570428864 deprecation_wrapper.py:119] From /usr/local/lib/python3.7/site-packages/keras/backend/tensorflow_backend.py:2018: The name tf.image.resize_nearest_neighbor is deprecated. Please use tf.compat.v1.image.resize_nearest_neighbor instead.\n",
      "\n"
     ]
    }
   ],
   "source": [
    "from keras.layers import Input, Dense, Conv2D, MaxPooling2D, UpSampling2D\n",
    "from keras.models import Model\n",
    "from keras import backend as K\n",
    "\n",
    "input_img = Input(shape=(20, 20, 1))  # adapt this if using `channels_first` image data format\n",
    "\n",
    "x = Conv2D(32, (3, 3), activation='relu', padding='same')(input_img)\n",
    "x = MaxPooling2D((2, 2), padding='same')(x)\n",
    "x = Conv2D(32, (3, 3), activation='relu', padding='same')(x)\n",
    "denoiser_encoded = MaxPooling2D((2, 2), padding='same')(x)\n",
    "\n",
    "# at this point the representation is (7, 7, 32)\n",
    "\n",
    "x = Conv2D(32, (3, 3), activation='relu', padding='same')(denoiser_encoded)\n",
    "x = UpSampling2D((2, 2))(x)\n",
    "x = Conv2D(32, (3, 3), activation='relu', padding='same')(x)\n",
    "x = UpSampling2D((2, 2))(x)\n",
    "denoiser_decoded = Conv2D(1, (3, 3), activation='sigmoid', padding='same')(x)\n",
    "\n",
    "denoiser = Model(input_img, denoiser_decoded)\n",
    "denoiser.compile(optimizer='adadelta', loss='binary_crossentropy')"
   ]
  },
  {
   "cell_type": "code",
   "execution_count": 34,
   "metadata": {},
   "outputs": [
    {
     "name": "stdout",
     "output_type": "stream",
     "text": [
      "Train on 2340 samples, validate on 2340 samples\n",
      "Epoch 1/50\n",
      "2340/2340 [==============================] - 2s 716us/step - loss: 0.3768 - val_loss: 0.3532\n",
      "Epoch 2/50\n",
      "2340/2340 [==============================] - 2s 661us/step - loss: 0.3708 - val_loss: 0.3643\n",
      "Epoch 3/50\n",
      "2340/2340 [==============================] - 2s 665us/step - loss: 0.3551 - val_loss: 0.3632\n",
      "Epoch 4/50\n",
      "2340/2340 [==============================] - 2s 673us/step - loss: 0.3439 - val_loss: 0.3340\n",
      "Epoch 5/50\n",
      "2340/2340 [==============================] - 2s 665us/step - loss: 0.3367 - val_loss: 0.3352\n",
      "Epoch 6/50\n",
      "2340/2340 [==============================] - 2s 672us/step - loss: 0.3292 - val_loss: 0.3269\n",
      "Epoch 7/50\n",
      "2340/2340 [==============================] - 2s 680us/step - loss: 0.3228 - val_loss: 0.3327\n",
      "Epoch 8/50\n",
      "2340/2340 [==============================] - 2s 682us/step - loss: 0.3177 - val_loss: 0.3139\n",
      "Epoch 9/50\n",
      "2340/2340 [==============================] - 2s 678us/step - loss: 0.3114 - val_loss: 0.3173\n",
      "Epoch 10/50\n",
      "2340/2340 [==============================] - 2s 664us/step - loss: 0.3094 - val_loss: 0.3041\n",
      "Epoch 11/50\n",
      "2340/2340 [==============================] - 2s 678us/step - loss: 0.3027 - val_loss: 0.3252\n",
      "Epoch 12/50\n",
      "2340/2340 [==============================] - 2s 670us/step - loss: 0.3039 - val_loss: 0.3001\n",
      "Epoch 13/50\n",
      "2340/2340 [==============================] - 2s 671us/step - loss: 0.2941 - val_loss: 0.2986\n",
      "Epoch 14/50\n",
      "2340/2340 [==============================] - 2s 687us/step - loss: 0.2935 - val_loss: 0.2904\n",
      "Epoch 15/50\n",
      "2340/2340 [==============================] - 2s 676us/step - loss: 0.2918 - val_loss: 0.2927\n",
      "Epoch 16/50\n",
      "2340/2340 [==============================] - 2s 675us/step - loss: 0.2895 - val_loss: 0.2861\n",
      "Epoch 17/50\n",
      "2340/2340 [==============================] - 2s 684us/step - loss: 0.2856 - val_loss: 0.2885\n",
      "Epoch 18/50\n",
      "2340/2340 [==============================] - 2s 680us/step - loss: 0.2840 - val_loss: 0.2900\n",
      "Epoch 19/50\n",
      "2340/2340 [==============================] - 2s 677us/step - loss: 0.2838 - val_loss: 0.2850\n",
      "Epoch 20/50\n",
      "2340/2340 [==============================] - 2s 676us/step - loss: 0.2804 - val_loss: 0.2760\n",
      "Epoch 21/50\n",
      "2340/2340 [==============================] - 2s 676us/step - loss: 0.2793 - val_loss: 0.2769\n",
      "Epoch 22/50\n",
      "2340/2340 [==============================] - 2s 680us/step - loss: 0.2770 - val_loss: 0.2781\n",
      "Epoch 23/50\n",
      "2340/2340 [==============================] - 2s 785us/step - loss: 0.2753 - val_loss: 0.2814\n",
      "Epoch 24/50\n",
      "2340/2340 [==============================] - 2s 706us/step - loss: 0.2709 - val_loss: 0.2708\n",
      "Epoch 25/50\n",
      "2340/2340 [==============================] - 2s 707us/step - loss: 0.2722 - val_loss: 0.2657\n",
      "Epoch 26/50\n",
      "2340/2340 [==============================] - 2s 669us/step - loss: 0.2699 - val_loss: 0.2724\n",
      "Epoch 27/50\n",
      "2340/2340 [==============================] - 2s 669us/step - loss: 0.2667 - val_loss: 0.2742\n",
      "Epoch 28/50\n",
      "2340/2340 [==============================] - 2s 695us/step - loss: 0.2702 - val_loss: 0.2807\n",
      "Epoch 29/50\n",
      "2340/2340 [==============================] - 2s 679us/step - loss: 0.2670 - val_loss: 0.2712\n",
      "Epoch 30/50\n",
      "2340/2340 [==============================] - 2s 681us/step - loss: 0.2677 - val_loss: 0.2689\n",
      "Epoch 31/50\n",
      "2340/2340 [==============================] - 2s 672us/step - loss: 0.2661 - val_loss: 0.2718\n",
      "Epoch 32/50\n",
      "2340/2340 [==============================] - 2s 679us/step - loss: 0.2615 - val_loss: 0.2709\n",
      "Epoch 33/50\n",
      "2340/2340 [==============================] - 2s 689us/step - loss: 0.2635 - val_loss: 0.2742\n",
      "Epoch 34/50\n",
      "2340/2340 [==============================] - 2s 700us/step - loss: 0.2630 - val_loss: 0.2611\n",
      "Epoch 35/50\n",
      "2340/2340 [==============================] - 2s 683us/step - loss: 0.2563 - val_loss: 0.2707\n",
      "Epoch 36/50\n",
      "2340/2340 [==============================] - 2s 675us/step - loss: 0.2597 - val_loss: 0.2619\n",
      "Epoch 37/50\n",
      "2340/2340 [==============================] - 2s 712us/step - loss: 0.2589 - val_loss: 0.2581\n",
      "Epoch 38/50\n",
      "2340/2340 [==============================] - 2s 700us/step - loss: 0.2584 - val_loss: 0.2605\n",
      "Epoch 39/50\n",
      "2340/2340 [==============================] - 2s 694us/step - loss: 0.2604 - val_loss: 0.2623\n",
      "Epoch 40/50\n",
      "2340/2340 [==============================] - 2s 702us/step - loss: 0.2557 - val_loss: 0.2587\n",
      "Epoch 41/50\n",
      "2340/2340 [==============================] - 2s 700us/step - loss: 0.2568 - val_loss: 0.2546\n",
      "Epoch 42/50\n",
      "2340/2340 [==============================] - 2s 703us/step - loss: 0.2538 - val_loss: 0.2558\n",
      "Epoch 43/50\n",
      "2340/2340 [==============================] - 2s 690us/step - loss: 0.2551 - val_loss: 0.2597\n",
      "Epoch 44/50\n",
      "2340/2340 [==============================] - 2s 692us/step - loss: 0.2560 - val_loss: 0.2572\n",
      "Epoch 45/50\n",
      "2340/2340 [==============================] - 2s 700us/step - loss: 0.2521 - val_loss: 0.2599\n",
      "Epoch 46/50\n",
      "2340/2340 [==============================] - 2s 688us/step - loss: 0.2549 - val_loss: 0.2618\n",
      "Epoch 47/50\n",
      "2340/2340 [==============================] - 2s 693us/step - loss: 0.2517 - val_loss: 0.2558\n",
      "Epoch 48/50\n",
      "2340/2340 [==============================] - 2s 702us/step - loss: 0.2532 - val_loss: 0.2551\n",
      "Epoch 49/50\n",
      "2340/2340 [==============================] - 2s 695us/step - loss: 0.2499 - val_loss: 0.2540\n",
      "Epoch 50/50\n",
      "2340/2340 [==============================] - 2s 686us/step - loss: 0.2493 - val_loss: 0.2514\n"
     ]
    },
    {
     "data": {
      "text/plain": [
       "<keras.callbacks.History at 0x117240828>"
      ]
     },
     "execution_count": 34,
     "metadata": {},
     "output_type": "execute_result"
    }
   ],
   "source": [
    "from keras.callbacks import TensorBoard\n",
    "denoiser.fit(x_train_noisy, x_train_2d,\n",
    "                epochs=50,\n",
    "                batch_size=128,\n",
    "                shuffle=True,\n",
    "                validation_data=(x_test_noisy, x_test_2d),\n",
    "                callbacks=[TensorBoard(log_dir='/tmp/denoiser', histogram_freq=0, write_graph=False)])"
   ]
  },
  {
   "cell_type": "code",
   "execution_count": 35,
   "metadata": {},
   "outputs": [
    {
     "data": {
      "image/png": "[encoded data removed]",
      "text/plain": [
       "<Figure size 2160x432 with 30 Axes>"
      ]
     },
     "metadata": {
      "needs_background": "light"
     },
     "output_type": "display_data"
    }
   ],
   "source": [
    "# encode and decode some digits\n",
    "# note that we take them from the *test* set\n",
    "denoised_images = denoiser.predict(x_test_noisy)\n",
    "\n",
    "n = 10  # how many digits we will display\n",
    "plt.figure(figsize=(30, 6))\n",
    "for i in range(n):\n",
    "    # display original\n",
    "    ax = plt.subplot(3, n, i + 1)\n",
    "    plt.imshow(x_test_2d[i].reshape(20, 20), cmap=\"Greys\", interpolation=None)\n",
    "    ax.get_xaxis().set_visible(False)\n",
    "    ax.get_yaxis().set_visible(False)\n",
    "    \n",
    "    # noisy version\n",
    "    ax = plt.subplot(3, n, n+ i + 1)\n",
    "    plt.imshow(x_test_noisy[i].reshape(20, 20), cmap=\"Greys\", interpolation=None)\n",
    "    ax.get_xaxis().set_visible(False)\n",
    "    ax.get_yaxis().set_visible(False)\n",
    "\n",
    "    # display denoised version\n",
    "    ax = plt.subplot(3, n, i + 1 + 2*n)\n",
    "    plt.imshow(denoised_images[i].reshape(20, 20), cmap=\"Greys\", interpolation=None)\n",
    "    ax.get_xaxis().set_visible(False)\n",
    "    ax.get_yaxis().set_visible(False)\n",
    "    \n",
    "plt.show()"
   ]
  },
  {
   "cell_type": "code",
   "execution_count": null,
   "metadata": {},
   "outputs": [],
   "source": []
  },
  {
   "cell_type": "code",
   "execution_count": null,
   "metadata": {},
   "outputs": [],
   "source": []
  }
 ],
 "metadata": {
  "kernelspec": {
   "display_name": "Python 3",
   "language": "python",
   "name": "python3"
  },
  "language_info": {
   "codemirror_mode": {
    "name": "ipython",
    "version": 3
   },
   "file_extension": ".py",
   "mimetype": "text/x-python",
   "name": "python",
   "nbconvert_exporter": "python",
   "pygments_lexer": "ipython3",
   "version": "3.7.3"
  }
 },
 "nbformat": 4,
 "nbformat_minor": 2
}
